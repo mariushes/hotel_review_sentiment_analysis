{
 "cells": [
  {
   "cell_type": "markdown",
   "metadata": {},
   "source": [
    "# Fasttext Standard Classifier"
   ]
  },
  {
   "cell_type": "markdown",
   "metadata": {},
   "source": [
    "## Abstract\n",
    "<ul>\n",
    "    <li><b>Input</b>: Preprocessed data</li>\n",
    "    <li><b>Process</b>: Using the standard classifier from fasttext to get results. Automatic holdout tuning.</li> \n",
    "    <li><b>Output</b>: Results. Evaluated with holdout</li>\n",
    "    <li><b>Sources</b>: Mostly https://fasttext.cc/docs/en/supervised-tutorial.html and https://towardsdatascience.com/fasttext-sentiment-analysis-for-tweets-a-straightforward-guide-9a8c070449a2 and https://www.cognitivecoder.com/2018/03/29/3-quick-ways-to-create-graphs-of-your-class-distributions-in-python/ and https://gist.github.com/loretoparisi/41b918add11893d761d0ec12a3a4e1aa</li>\n",
    "</ul>"
   ]
  },
  {
   "cell_type": "code",
   "execution_count": 3,
   "metadata": {},
   "outputs": [],
   "source": [
    "import fasttext\n",
    "import pandas as pd\n",
    "from ast import literal_eval\n",
    "import random\n",
    "import pandas as pd\n",
    "import numpy as np\n",
    "import matplotlib.pyplot as plt\n",
    "# Use the line below to show inline in a notebook\n",
    "%matplotlib inline\n",
    "from sklearn.model_selection import train_test_split"
   ]
  },
  {
   "cell_type": "code",
   "execution_count": 2,
   "metadata": {
    "scrolled": true
   },
   "outputs": [
    {
     "name": "stdout",
     "output_type": "stream",
     "text": [
      "515738\n"
     ]
    }
   ],
   "source": [
    "dict = {\n",
    "    \"token\": True,  #mandatory True\n",
    "    \"token_sentenceSeperate\":False,\n",
    "    \"token_includePunctation\":False,\n",
    "    \"token_excludeSpecPuct\" :[],\n",
    "    \"remStpwrds\": False,\n",
    "    \"stemm\": True,\n",
    "    \"lemmatize\": False,\n",
    "    \"nGram\": False,\n",
    "    \"nGram_length\":2\n",
    "}\n",
    "\n",
    "df = pd.read_csv(\"../data/preprocessed/\"+\"_\".join(str(key) + str(value) for key, value in dict.items())+\".csv\")\n",
    "df = df[['Review', 'Reviewer_Score']]"
   ]
  },
  {
   "cell_type": "code",
   "execution_count": 3,
   "metadata": {
    "code_folding": []
   },
   "outputs": [
    {
     "name": "stdout",
     "output_type": "stream",
     "text": [
      "[94439 94439 94439]\n",
      "[44097 20237 13027]\n",
      "[44096 20237 13028]\n"
     ]
    },
    {
     "data": {
      "image/png": "[encoded data removed]",
      "text/plain": [
       "<Figure size 432x288 with 1 Axes>"
      ]
     },
     "metadata": {
      "needs_background": "light"
     },
     "output_type": "display_data"
    },
    {
     "name": "stdout",
     "output_type": "stream",
     "text": [
      "[205781  94439  60796]\n",
      "[44096 20237 13028]\n",
      "[44097 20237 13027]\n"
     ]
    },
    {
     "data": {
      "image/png": "[encoded data removed]",
      "text/plain": [
       "<Figure size 432x288 with 1 Axes>"
      ]
     },
     "metadata": {
      "needs_background": "light"
     },
     "output_type": "display_data"
    }
   ],
   "source": [
    "def train_test_valid_split(df,upsampling=True):\n",
    "    train,test = train_test_split(df,test_size=0.3,stratify=df[\"Reviewer_Score\"])\n",
    "    test,valid = train_test_split(test,test_size=0.5,stratify=test[\"Reviewer_Score\"])\n",
    "    \n",
    "\n",
    "    unique, counts_train = np.unique(train[\"Reviewer_Score\"], return_counts=True)\n",
    "    if(upsampling):\n",
    "        train_0 = train[train[\"Reviewer_Score\"]==0].sample(frac=(counts_train[1]/counts_train[0]))\n",
    "        train_1 = train[train[\"Reviewer_Score\"]==1]\n",
    "        train_2 = train[train[\"Reviewer_Score\"]==2].sample(frac=(counts_train[1]/counts_train[2]),replace=True)\n",
    "        train = train_0.append(train_1).append(train_2)\n",
    "    unique, counts_train = np.unique(train[\"Reviewer_Score\"], return_counts=True)\n",
    "    plt.bar(unique, counts_train)\n",
    "    print(counts_train)\n",
    "    \n",
    "    unique, counts = np.unique(test[\"Reviewer_Score\"], return_counts=True)\n",
    "    plt.bar(unique, counts)\n",
    "    print(counts)\n",
    "    \n",
    "    unique, counts = np.unique(valid[\"Reviewer_Score\"], return_counts=True)\n",
    "    plt.bar(unique, counts)\n",
    "    print(counts)\n",
    "\n",
    "        \n",
    "\n",
    "    plt.title('Class Frequency')\n",
    "    plt.xlabel('Class')\n",
    "    plt.ylabel('Frequency')\n",
    "\n",
    "    plt.show()\n",
    "    \n",
    "    return train,valid,test\n",
    "\n",
    "    \n",
    "def prepare(df,save_path):    \n",
    "    df_copy = df[['Review', 'Reviewer_Score']]\n",
    "    df_copy[\"Review\"] = df_copy[\"Review\"].apply(lambda review: \" \".join(literal_eval(review)))\n",
    "\n",
    "\n",
    "    txt = \"\"\n",
    "\n",
    "    for index,row in df_copy.iterrows():\n",
    "        new_line = \"__label__\"+str(row[\"Reviewer_Score\"])+\" \"+str(row[\"Review\"])\n",
    "        txt += \"\\n\" + new_line\n",
    "\n",
    "    text_file = open(\"../data/fasttextClassifier_\"+save_path+\".txt\", \"w\")\n",
    "    n = text_file.write(txt)\n",
    "    text_file.close()\n",
    "\n",
    "    \n",
    "    \n",
    "def prepare_datasets_for_fasttext(df,upsampling): \n",
    "    train,valid,test = train_test_valid_split(df,upsampling)\n",
    "    \n",
    "    up = \"UP\" if upsampling else \"\"\n",
    "    \n",
    "    prepare(train,\"train\"+up)\n",
    "    prepare(valid,\"valid\"+up)\n",
    "    prepare(test,\"test\"+up) \n",
    "    \n",
    "\n",
    "\n",
    "    \n",
    "\n",
    "prepare_datasets_for_fasttext(df,True)\n",
    "prepare_datasets_for_fasttext(df,False)\n",
    "\n",
    "#Explanation: Green is the distribution of holdout/test set. Blue is the distribution of the trainingsset"
   ]
  },
  {
   "cell_type": "code",
   "execution_count": 4,
   "metadata": {
    "scrolled": true
   },
   "outputs": [],
   "source": [
    "#hyper_params = {\"lr\": 0.05,\n",
    "#    \"epoch\": 60,\n",
    "#    \"wordNgrams\": 2,\n",
    "#    \"dim\": 250}     \n",
    "\n",
    "#we did only sample the training data, not any other data\n",
    "model_sampled_training = fasttext.train_supervised(input=\"../data/fasttextClassifier_trainUP.txt\", autotuneValidationFile=\"../data/fasttextClassifier_validUP.txt\", autotuneDuration=7000)\n",
    "model = fasttext.train_supervised(input=\"../data/fasttextClassifier_train.txt\", autotuneValidationFile=\"../data/fasttextClassifier_valid.txt\", autotuneDuration=7000)"
   ]
  },
  {
   "cell_type": "code",
   "execution_count": 5,
   "metadata": {},
   "outputs": [],
   "source": [
    "# model.save_model(\"model.bin\")\n",
    "# model_sampled_training.save_model(\"model_UP.bin\")"
   ]
  },
  {
   "cell_type": "code",
   "execution_count": 6,
   "metadata": {},
   "outputs": [
    {
     "name": "stdout",
     "output_type": "stream",
     "text": [
      "N\t77361\n",
      "P@0\t0.686\n",
      "R@0\t0.686\n",
      "0.3434409509983074 15 5 177 loss_name.softmax 100\n",
      "N\t77361\n",
      "P@0\t0.657\n",
      "R@0\t0.657\n",
      "0.01 100 1 112 loss_name.softmax 100\n"
     ]
    }
   ],
   "source": [
    "def print_results(N, p, r, model):\n",
    "    print(\"N\\t\" + str(N))\n",
    "    print(\"P@{}\\t{:.3f}\".format(0, p))\n",
    "    print(\"R@{}\\t{:.3f}\".format(0, r))\n",
    "    print(model.lr,model.epoch,model.wordNgrams,model.dim,model.loss,model.lrUpdateRate)\n",
    "\n",
    "print_results(*model.test(\"../data/fasttextClassifier_test.txt\"),model)\n",
    "print_results(*model_sampled_training.test(\"../data/fasttextClassifier_test.txt\"),model_sampled_training)"
   ]
  },
  {
   "cell_type": "markdown",
   "metadata": {},
   "source": [
    "We evaluate both variants here, this part is just for evaluating"
   ]
  },
  {
   "cell_type": "markdown",
   "metadata": {},
   "source": [
    "# Unbalanced"
   ]
  },
  {
   "cell_type": "code",
   "execution_count": 4,
   "metadata": {},
   "outputs": [
    {
     "name": "stderr",
     "output_type": "stream",
     "text": [
      "Warning : `load_model` does not return WordVectorModel or SupervisedModel any more, but a `FastText` object which is very similar.\n",
      "Warning : `load_model` does not return WordVectorModel or SupervisedModel any more, but a `FastText` object which is very similar.\n"
     ]
    }
   ],
   "source": [
    "from fasttext.FastText import load_model\n",
    "\n",
    "model = load_model(\"model.bin\")\n",
    "model_sampled_training = load_model(\"model_UP.bin\")"
   ]
  },
  {
   "cell_type": "code",
   "execution_count": 13,
   "metadata": {
    "scrolled": false
   },
   "outputs": [
    {
     "name": "stdout",
     "output_type": "stream",
     "text": [
      "[[37228, 5606, 1262], [9383, 7615, 3239], [1422, 3367, 8239]]\n"
     ]
    },
    {
     "data": {
      "text/plain": [
       "<matplotlib.axes._subplots.AxesSubplot at 0x7f81bd826750>"
      ]
     },
     "execution_count": 13,
     "metadata": {},
     "output_type": "execute_result"
    },
    {
     "data": {
      "image/png": "[encoded data removed]",
      "text/plain": [
       "<Figure size 720x504 with 2 Axes>"
      ]
     },
     "metadata": {
      "needs_background": "light"
     },
     "output_type": "display_data"
    }
   ],
   "source": [
    "import re\n",
    "from sklearn.metrics import confusion_matrix\n",
    "import seaborn as sn\n",
    "import pandas as pd\n",
    "import matplotlib.pyplot as plt\n",
    "\n",
    "def trans(line):\n",
    "    if line==\"__label__0\":\n",
    "        return 0\n",
    "    if line==\"__label__1\":\n",
    "        return 1\n",
    "    if line==\"__label__2\":\n",
    "        return 2\n",
    "    \n",
    "    \n",
    "predicted = []\n",
    "correct = []\n",
    "    \n",
    "confusion_matrix = [[0,0,0],[0,0,0],[0,0,0]]\n",
    "file = open(\"../data/fasttextClassifier_test.txt\")\n",
    "for a in file:\n",
    "    label = re.findall(\"__label__\\d*\", a)\n",
    "    if len(label)==0:\n",
    "        continue\n",
    "    line = re.sub(\"__label__\\d*\", \"\",a,1)\n",
    "    line = re.sub(\"\\n\", \"\",line,1)\n",
    "    predicted_label = model.predict(line)[0][0]\n",
    "    \n",
    "    \n",
    "    confusion_matrix[trans(label[0])][trans(predicted_label)] = confusion_matrix[trans(label[0])][trans(predicted_label)]+1\n",
    "    \n",
    "    predicted.append(trans(predicted_label))\n",
    "    correct.append(trans(label[0]))\n",
    "    \n",
    "print(confusion_matrix)\n",
    "\n",
    "\n",
    "\n",
    "\n",
    "df_cm = pd.DataFrame(confusion_matrix, index = [i for i in \"012\"],\n",
    "                  columns = [i for i in \"012\"])\n",
    "plt.figure(figsize = (10,7))\n",
    "sn.heatmap(df_cm, annot=True)"
   ]
  },
  {
   "cell_type": "code",
   "execution_count": 14,
   "metadata": {},
   "outputs": [
    {
     "name": "stdout",
     "output_type": "stream",
     "text": [
      "[0, 0, 0, 0, 0, 0, 1, 0, 1, 0]\n",
      "[0, 0, 1, 1, 0, 0, 0, 0, 1, 0]\n",
      "1.0\n"
     ]
    }
   ],
   "source": [
    "print(correct[0:10])\n",
    "print(predicted[0:10])\n",
    "print(len(correct)/len(predicted))\n"
   ]
  },
  {
   "cell_type": "code",
   "execution_count": 15,
   "metadata": {
    "scrolled": true
   },
   "outputs": [
    {
     "name": "stdout",
     "output_type": "stream",
     "text": [
      "              precision    recall  f1-score   support\n",
      "\n",
      "    Positive       0.78      0.84      0.81     44096\n",
      "     Neutral       0.46      0.38      0.41     20237\n",
      "    Negative       0.65      0.63      0.64     13028\n",
      "\n",
      "    accuracy                           0.69     77361\n",
      "   macro avg       0.63      0.62      0.62     77361\n",
      "weighted avg       0.67      0.69      0.68     77361\n",
      "\n"
     ]
    }
   ],
   "source": [
    "from sklearn.metrics import classification_report\n",
    "\n",
    "y_true = correct\n",
    "y_pred = predicted\n",
    "target_names = ['Positive', 'Neutral', 'Negative']\n",
    "print(classification_report(y_true, y_pred, target_names=target_names))"
   ]
  },
  {
   "cell_type": "markdown",
   "metadata": {},
   "source": [
    "# Balanced"
   ]
  },
  {
   "cell_type": "code",
   "execution_count": 17,
   "metadata": {
    "scrolled": true
   },
   "outputs": [
    {
     "name": "stdout",
     "output_type": "stream",
     "text": [
      "[[31260, 9901, 2935], [5202, 9994, 5041], [585, 2879, 9564]]\n"
     ]
    },
    {
     "data": {
      "text/plain": [
       "<matplotlib.axes._subplots.AxesSubplot at 0x7f81826a3090>"
      ]
     },
     "execution_count": 17,
     "metadata": {},
     "output_type": "execute_result"
    },
    {
     "data": {
      "image/png": "[encoded data removed]",
      "text/plain": [
       "<Figure size 720x504 with 2 Axes>"
      ]
     },
     "metadata": {
      "needs_background": "light"
     },
     "output_type": "display_data"
    }
   ],
   "source": [
    "import re\n",
    "from sklearn.metrics import confusion_matrix\n",
    "import seaborn as sn\n",
    "import pandas as pd\n",
    "import matplotlib.pyplot as plt\n",
    "\n",
    "def trans(line):\n",
    "    if line==\"__label__0\":\n",
    "        return 0\n",
    "    if line==\"__label__1\":\n",
    "        return 1\n",
    "    if line==\"__label__2\":\n",
    "        return 2\n",
    "    \n",
    "    \n",
    "predicted = []\n",
    "correct = []\n",
    "    \n",
    "confusion_matrix = [[0,0,0],[0,0,0],[0,0,0]]\n",
    "file = open(\"../data/fasttextClassifier_test.txt\")\n",
    "for a in file:\n",
    "    label = re.findall(\"__label__\\d*\", a)\n",
    "    if len(label)==0:\n",
    "        continue\n",
    "    line = re.sub(\"__label__\\d*\", \"\",a,1)\n",
    "    line = re.sub(\"\\n\", \"\",line,1)\n",
    "    predicted_label = model_sampled_training.predict(line)[0][0]\n",
    "    \n",
    "\n",
    "    confusion_matrix[trans(label[0])][trans(predicted_label)] = confusion_matrix[trans(label[0])][trans(predicted_label)]+1\n",
    "    \n",
    "    predicted.append(trans(predicted_label))\n",
    "    correct.append(trans(label[0]))\n",
    "    \n",
    "print(confusion_matrix)\n",
    "\n",
    "\n",
    "\n",
    "\n",
    "df_cm = pd.DataFrame(confusion_matrix, index = [i for i in \"012\"],\n",
    "                  columns = [i for i in \"012\"])\n",
    "plt.figure(figsize = (10,7))\n",
    "sn.heatmap(df_cm, annot=True)"
   ]
  },
  {
   "cell_type": "code",
   "execution_count": 18,
   "metadata": {},
   "outputs": [
    {
     "name": "stdout",
     "output_type": "stream",
     "text": [
      "              precision    recall  f1-score   support\n",
      "\n",
      "    Positive       0.84      0.71      0.77     44096\n",
      "     Neutral       0.44      0.49      0.46     20237\n",
      "    Negative       0.55      0.73      0.63     13028\n",
      "\n",
      "    accuracy                           0.66     77361\n",
      "   macro avg       0.61      0.65      0.62     77361\n",
      "weighted avg       0.69      0.66      0.67     77361\n",
      "\n"
     ]
    }
   ],
   "source": [
    "from sklearn.metrics import classification_report\n",
    "\n",
    "y_true = correct\n",
    "y_pred = predicted\n",
    "target_names = ['Positive', 'Neutral', 'Negative']\n",
    "print(classification_report(y_true, y_pred, target_names=target_names))"
   ]
  },
  {
   "cell_type": "markdown",
   "metadata": {},
   "source": [
    "Try some predicitions for yourself. You may have to load the model"
   ]
  },
  {
   "cell_type": "code",
   "execution_count": 6,
   "metadata": {
    "scrolled": false
   },
   "outputs": [
    {
     "name": "stdout",
     "output_type": "stream",
     "text": [
      "(('__label__2',), array([0.48021793]))\n",
      "(('__label__0',), array([0.99087995]))\n",
      "(('__label__0',), array([0.72167194]))\n"
     ]
    }
   ],
   "source": [
    "print(model.predict(\"Poor Management. Very bad pool\"))\n",
    "print(model.predict(\"I love this hotel everything is so awesome i like it\"))\n",
    "print(model.predict(\"pool was ok everything was fine but i didnt like the waitress\"))"
   ]
  },
  {
   "cell_type": "markdown",
   "metadata": {},
   "source": [
    "Same thing again, but without stopwords"
   ]
  },
  {
   "cell_type": "markdown",
   "metadata": {},
   "source": [
    "# With stopword removal"
   ]
  },
  {
   "cell_type": "code",
   "execution_count": 4,
   "metadata": {
    "scrolled": true
   },
   "outputs": [],
   "source": [
    "dict = {\n",
    "    \"token\": True,  #mandatory True\n",
    "    \"token_sentenceSeperate\":False,\n",
    "    \"token_includePunctation\":False,\n",
    "    \"token_excludeSpecPuct\" :[],\n",
    "    \"remStpwrds\": True,\n",
    "    \"stemm\": True,\n",
    "    \"lemmatize\": False,\n",
    "    \"nGram\": False,\n",
    "    \"nGram_length\":2\n",
    "}\n",
    "\n",
    "df = pd.read_csv(\"../data/preprocessed/\"+\"_\".join(str(key) + str(value) for key, value in dict.items())+\".csv\")\n",
    "df = df[['Review', 'Reviewer_Score']]"
   ]
  },
  {
   "cell_type": "code",
   "execution_count": 5,
   "metadata": {
    "code_folding": []
   },
   "outputs": [
    {
     "name": "stdout",
     "output_type": "stream",
     "text": [
      "[94439 94439 94439]\n",
      "[44096 20237 13028]\n",
      "[44097 20237 13027]\n"
     ]
    },
    {
     "data": {
      "image/png": "[encoded data removed]",
      "text/plain": [
       "<Figure size 432x288 with 1 Axes>"
      ]
     },
     "metadata": {
      "needs_background": "light"
     },
     "output_type": "display_data"
    },
    {
     "name": "stdout",
     "output_type": "stream",
     "text": [
      "[205781  94439  60796]\n",
      "[44096 20237 13028]\n",
      "[44097 20237 13027]\n"
     ]
    },
    {
     "data": {
      "image/png": "[encoded data removed]",
      "text/plain": [
       "<Figure size 432x288 with 1 Axes>"
      ]
     },
     "metadata": {
      "needs_background": "light"
     },
     "output_type": "display_data"
    }
   ],
   "source": [
    "def train_test_valid_split(df,upsampling=True):\n",
    "    train,test = train_test_split(df,test_size=0.3,stratify=df[\"Reviewer_Score\"])\n",
    "    test,valid = train_test_split(test,test_size=0.5,stratify=test[\"Reviewer_Score\"])\n",
    "    \n",
    "\n",
    "    unique, counts_train = np.unique(train[\"Reviewer_Score\"], return_counts=True)\n",
    "    if(upsampling):\n",
    "        train_0 = train[train[\"Reviewer_Score\"]==0].sample(frac=(counts_train[1]/counts_train[0]))\n",
    "        train_1 = train[train[\"Reviewer_Score\"]==1]\n",
    "        train_2 = train[train[\"Reviewer_Score\"]==2].sample(frac=(counts_train[1]/counts_train[2]),replace=True)\n",
    "        train = train_0.append(train_1).append(train_2)\n",
    "    unique, counts_train = np.unique(train[\"Reviewer_Score\"], return_counts=True)\n",
    "    plt.bar(unique, counts_train)\n",
    "    print(counts_train)\n",
    "    \n",
    "    unique, counts = np.unique(test[\"Reviewer_Score\"], return_counts=True)\n",
    "    plt.bar(unique, counts)\n",
    "    print(counts)\n",
    "    \n",
    "    unique, counts = np.unique(valid[\"Reviewer_Score\"], return_counts=True)\n",
    "    plt.bar(unique, counts)\n",
    "    print(counts)\n",
    "\n",
    "        \n",
    "\n",
    "    plt.title('Class Frequency')\n",
    "    plt.xlabel('Class')\n",
    "    plt.ylabel('Frequency')\n",
    "\n",
    "    plt.show()\n",
    "    \n",
    "    return train,valid,test\n",
    "\n",
    "    \n",
    "def prepare(df,save_path):    \n",
    "    df_copy = df[['Review', 'Reviewer_Score']]\n",
    "    df_copy[\"Review\"] = df_copy[\"Review\"].apply(lambda review: \" \".join(literal_eval(review)))\n",
    "\n",
    "\n",
    "    txt = \"\"\n",
    "\n",
    "    for index,row in df_copy.iterrows():\n",
    "        new_line = \"__label__\"+str(row[\"Reviewer_Score\"])+\" \"+str(row[\"Review\"])\n",
    "        txt += \"\\n\" + new_line\n",
    "\n",
    "    text_file = open(\"../data/fasttextClassifier_\"+save_path+\".txt\", \"w\")\n",
    "    n = text_file.write(txt)\n",
    "    text_file.close()\n",
    "\n",
    "    \n",
    "    \n",
    "def prepare_datasets_for_fasttext(df,upsampling): \n",
    "    train,valid,test = train_test_valid_split(df,upsampling)\n",
    "    \n",
    "    up = \"UP\" if upsampling else \"\"\n",
    "    \n",
    "    prepare(train,\"train\"+up)\n",
    "    prepare(valid,\"valid\"+up)\n",
    "    prepare(test,\"test\"+up) \n",
    "    \n",
    "\n",
    "\n",
    "    \n",
    "\n",
    "prepare_datasets_for_fasttext(df,True)\n",
    "prepare_datasets_for_fasttext(df,False)"
   ]
  },
  {
   "cell_type": "code",
   "execution_count": 6,
   "metadata": {
    "scrolled": true
   },
   "outputs": [],
   "source": [
    "#hyper_params = {\"lr\": 0.05,\n",
    "#    \"epoch\": 60,\n",
    "#    \"wordNgrams\": 2,\n",
    "#    \"dim\": 250}     \n",
    "\n",
    "#we did only sample the training data, not any other data\n",
    "model_sampled_training = fasttext.train_supervised(input=\"../data/fasttextClassifier_trainUP.txt\", autotuneValidationFile=\"../data/fasttextClassifier_validUP.txt\", autotuneDuration=7000)\n",
    "model_sampled_training.save_model(\"model_UPstp.bin\")"
   ]
  },
  {
   "cell_type": "code",
   "execution_count": 7,
   "metadata": {},
   "outputs": [],
   "source": [
    "model = fasttext.train_supervised(input=\"../data/fasttextClassifier_train.txt\", autotuneValidationFile=\"../data/fasttextClassifier_valid.txt\", autotuneDuration=7000)\n",
    "model.save_model(\"modelstp.bin\")"
   ]
  },
  {
   "cell_type": "code",
   "execution_count": null,
   "metadata": {},
   "outputs": [],
   "source": []
  },
  {
   "cell_type": "code",
   "execution_count": 8,
   "metadata": {},
   "outputs": [
    {
     "name": "stdout",
     "output_type": "stream",
     "text": [
      "N\t77361\n",
      "P@0\t0.683\n",
      "R@0\t0.683\n",
      "0.1763732221266724 3 4 179 loss_name.softmax 100\n",
      "N\t77361\n",
      "P@0\t0.659\n",
      "R@0\t0.659\n",
      "0.3007315883150453 1 1 155 loss_name.softmax 100\n"
     ]
    }
   ],
   "source": [
    "def print_results(N, p, r, model):\n",
    "    print(\"N\\t\" + str(N))\n",
    "    print(\"P@{}\\t{:.3f}\".format(0, p))\n",
    "    print(\"R@{}\\t{:.3f}\".format(0, r))\n",
    "    print(model.lr,model.epoch,model.wordNgrams,model.dim,model.loss,model.lrUpdateRate)\n",
    "\n",
    "print_results(*model.test(\"../data/fasttextClassifier_test.txt\"),model)\n",
    "print_results(*model_sampled_training.test(\"../data/fasttextClassifier_test.txt\"),model_sampled_training)"
   ]
  },
  {
   "cell_type": "markdown",
   "metadata": {},
   "source": [
    "We evaluate both variants here, this part is just for evaluating"
   ]
  },
  {
   "cell_type": "markdown",
   "metadata": {},
   "source": [
    "# Unbalanced"
   ]
  },
  {
   "cell_type": "code",
   "execution_count": 9,
   "metadata": {},
   "outputs": [
    {
     "name": "stderr",
     "output_type": "stream",
     "text": [
      "Warning : `load_model` does not return WordVectorModel or SupervisedModel any more, but a `FastText` object which is very similar.\n",
      "Warning : `load_model` does not return WordVectorModel or SupervisedModel any more, but a `FastText` object which is very similar.\n"
     ]
    }
   ],
   "source": [
    "from fasttext.FastText import load_model\n",
    "\n",
    "model = load_model(\"modelstp.bin\")\n",
    "model_sampled_training = load_model(\"model_UPstp.bin\")"
   ]
  },
  {
   "cell_type": "code",
   "execution_count": 10,
   "metadata": {
    "scrolled": false
   },
   "outputs": [
    {
     "name": "stdout",
     "output_type": "stream",
     "text": [
      "[[39300, 3488, 1308], [11401, 5723, 3113], [2394, 2807, 7827]]\n"
     ]
    },
    {
     "data": {
      "text/plain": [
       "<matplotlib.axes._subplots.AxesSubplot at 0x7f1077132390>"
      ]
     },
     "execution_count": 10,
     "metadata": {},
     "output_type": "execute_result"
    },
    {
     "data": {
      "image/png": "[encoded data removed]",
      "text/plain": [
       "<Figure size 720x504 with 2 Axes>"
      ]
     },
     "metadata": {
      "needs_background": "light"
     },
     "output_type": "display_data"
    }
   ],
   "source": [
    "import re\n",
    "from sklearn.metrics import confusion_matrix\n",
    "import seaborn as sn\n",
    "import pandas as pd\n",
    "import matplotlib.pyplot as plt\n",
    "\n",
    "def trans(line):\n",
    "    if line==\"__label__0\":\n",
    "        return 0\n",
    "    if line==\"__label__1\":\n",
    "        return 1\n",
    "    if line==\"__label__2\":\n",
    "        return 2\n",
    "    \n",
    "    \n",
    "predicted = []\n",
    "correct = []\n",
    "    \n",
    "confusion_matrix = [[0,0,0],[0,0,0],[0,0,0]]\n",
    "file = open(\"../data/fasttextClassifier_test.txt\")\n",
    "for a in file:\n",
    "    label = re.findall(\"__label__\\d*\", a)\n",
    "    if len(label)==0:\n",
    "        continue\n",
    "    line = re.sub(\"__label__\\d*\", \"\",a,1)\n",
    "    line = re.sub(\"\\n\", \"\",line,1)\n",
    "    predicted_label = model.predict(line)[0][0]\n",
    "    \n",
    "    \n",
    "    confusion_matrix[trans(label[0])][trans(predicted_label)] = confusion_matrix[trans(label[0])][trans(predicted_label)]+1\n",
    "    \n",
    "    predicted.append(trans(predicted_label))\n",
    "    correct.append(trans(label[0]))\n",
    "    \n",
    "print(confusion_matrix)\n",
    "\n",
    "\n",
    "\n",
    "\n",
    "df_cm = pd.DataFrame(confusion_matrix, index = [i for i in \"012\"],\n",
    "                  columns = [i for i in \"012\"])\n",
    "plt.figure(figsize = (10,7))\n",
    "sn.heatmap(df_cm, annot=True)"
   ]
  },
  {
   "cell_type": "code",
   "execution_count": null,
   "metadata": {},
   "outputs": [],
   "source": [
    "print(correct[0:10])\n",
    "print(predicted[0:10])\n",
    "print(len(correct)/len(predicted))\n"
   ]
  },
  {
   "cell_type": "code",
   "execution_count": 11,
   "metadata": {
    "scrolled": true
   },
   "outputs": [
    {
     "name": "stdout",
     "output_type": "stream",
     "text": [
      "              precision    recall  f1-score   support\n",
      "\n",
      "    Positive       0.74      0.89      0.81     44096\n",
      "     Neutral       0.48      0.28      0.35     20237\n",
      "    Negative       0.64      0.60      0.62     13028\n",
      "\n",
      "    accuracy                           0.68     77361\n",
      "   macro avg       0.62      0.59      0.59     77361\n",
      "weighted avg       0.65      0.68      0.66     77361\n",
      "\n"
     ]
    }
   ],
   "source": [
    "from sklearn.metrics import classification_report\n",
    "\n",
    "y_true = correct\n",
    "y_pred = predicted\n",
    "target_names = ['Positive', 'Neutral', 'Negative']\n",
    "print(classification_report(y_true, y_pred, target_names=target_names))"
   ]
  },
  {
   "cell_type": "markdown",
   "metadata": {},
   "source": [
    "# Balanced"
   ]
  },
  {
   "cell_type": "code",
   "execution_count": 12,
   "metadata": {
    "scrolled": true
   },
   "outputs": [
    {
     "name": "stdout",
     "output_type": "stream",
     "text": [
      "[[41961, 81, 2054], [15524, 230, 4483], [4071, 132, 8825]]\n"
     ]
    },
    {
     "data": {
      "text/plain": [
       "<matplotlib.axes._subplots.AxesSubplot at 0x7f1076efa110>"
      ]
     },
     "execution_count": 12,
     "metadata": {},
     "output_type": "execute_result"
    },
    {
     "data": {
      "image/png": "[encoded data removed]",
      "text/plain": [
       "<Figure size 720x504 with 2 Axes>"
      ]
     },
     "metadata": {
      "needs_background": "light"
     },
     "output_type": "display_data"
    }
   ],
   "source": [
    "import re\n",
    "from sklearn.metrics import confusion_matrix\n",
    "import seaborn as sn\n",
    "import pandas as pd\n",
    "import matplotlib.pyplot as plt\n",
    "\n",
    "def trans(line):\n",
    "    if line==\"__label__0\":\n",
    "        return 0\n",
    "    if line==\"__label__1\":\n",
    "        return 1\n",
    "    if line==\"__label__2\":\n",
    "        return 2\n",
    "    \n",
    "    \n",
    "predicted = []\n",
    "correct = []\n",
    "    \n",
    "confusion_matrix = [[0,0,0],[0,0,0],[0,0,0]]\n",
    "file = open(\"../data/fasttextClassifier_test.txt\")\n",
    "for a in file:\n",
    "    label = re.findall(\"__label__\\d*\", a)\n",
    "    if len(label)==0:\n",
    "        continue\n",
    "    line = re.sub(\"__label__\\d*\", \"\",a,1)\n",
    "    line = re.sub(\"\\n\", \"\",line,1)\n",
    "    predicted_label = model_sampled_training.predict(line)[0][0]\n",
    "    \n",
    "\n",
    "    confusion_matrix[trans(label[0])][trans(predicted_label)] = confusion_matrix[trans(label[0])][trans(predicted_label)]+1\n",
    "    \n",
    "    predicted.append(trans(predicted_label))\n",
    "    correct.append(trans(label[0]))\n",
    "    \n",
    "print(confusion_matrix)\n",
    "\n",
    "\n",
    "\n",
    "\n",
    "df_cm = pd.DataFrame(confusion_matrix, index = [i for i in \"012\"],\n",
    "                  columns = [i for i in \"012\"])\n",
    "plt.figure(figsize = (10,7))\n",
    "sn.heatmap(df_cm, annot=True)"
   ]
  },
  {
   "cell_type": "code",
   "execution_count": 13,
   "metadata": {},
   "outputs": [
    {
     "name": "stdout",
     "output_type": "stream",
     "text": [
      "              precision    recall  f1-score   support\n",
      "\n",
      "    Positive       0.68      0.95      0.79     44096\n",
      "     Neutral       0.52      0.01      0.02     20237\n",
      "    Negative       0.57      0.68      0.62     13028\n",
      "\n",
      "    accuracy                           0.66     77361\n",
      "   macro avg       0.59      0.55      0.48     77361\n",
      "weighted avg       0.62      0.66      0.56     77361\n",
      "\n"
     ]
    }
   ],
   "source": [
    "from sklearn.metrics import classification_report\n",
    "\n",
    "y_true = correct\n",
    "y_pred = predicted\n",
    "target_names = ['Positive', 'Neutral', 'Negative']\n",
    "print(classification_report(y_true, y_pred, target_names=target_names))"
   ]
  },
  {
   "cell_type": "code",
   "execution_count": null,
   "metadata": {},
   "outputs": [],
   "source": []
  },
  {
   "cell_type": "code",
   "execution_count": null,
   "metadata": {},
   "outputs": [],
   "source": []
  },
  {
   "cell_type": "code",
   "execution_count": null,
   "metadata": {},
   "outputs": [],
   "source": []
  },
  {
   "cell_type": "code",
   "execution_count": null,
   "metadata": {},
   "outputs": [],
   "source": []
  },
  {
   "cell_type": "code",
   "execution_count": null,
   "metadata": {},
   "outputs": [],
   "source": []
  },
  {
   "cell_type": "code",
   "execution_count": null,
   "metadata": {},
   "outputs": [],
   "source": []
  }
 ],
 "metadata": {
  "kernelspec": {
   "display_name": "Python 3",
   "language": "python",
   "name": "python3"
  },
  "language_info": {
   "codemirror_mode": {
    "name": "ipython",
    "version": 3
   },
   "file_extension": ".py",
   "mimetype": "text/x-python",
   "name": "python",
   "nbconvert_exporter": "python",
   "pygments_lexer": "ipython3",
   "version": "3.7.5"
  },
  "latex_envs": {
   "LaTeX_envs_menu_present": true,
   "autoclose": false,
   "autocomplete": true,
   "bibliofile": "biblio.bib",
   "cite_by": "apalike",
   "current_citInitial": 1,
   "eqLabelWithNumbers": true,
   "eqNumInitial": 1,
   "hotkeys": {
    "equation": "Ctrl-E",
    "itemize": "Ctrl-I"
   },
   "labels_anchors": false,
   "latex_user_defs": false,
   "report_style_numbering": false,
   "user_envs_cfg": false
  },
  "toc": {
   "base_numbering": 1,
   "nav_menu": {},
   "number_sections": true,
   "sideBar": true,
   "skip_h1_title": false,
   "title_cell": "Table of Contents",
   "title_sidebar": "Contents",
   "toc_cell": false,
   "toc_position": {},
   "toc_section_display": true,
   "toc_window_display": false
  }
 },
 "nbformat": 4,
 "nbformat_minor": 2
}
