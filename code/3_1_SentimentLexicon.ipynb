{
  "nbformat": 4,
  "nbformat_minor": 0,
  "metadata": {
    "colab": {
      "name": "Sentiment_Lexicon.ipynb",
      "provenance": [],
      "collapsed_sections": [],
      "toc_visible": true,
      "machine_shape": "hm"
    },
    "kernelspec": {
      "name": "python3",
      "display_name": "Python 3"
    }
  },
  "cells": [
    {
      "cell_type": "code",
      "metadata": {
        "id": "yt0DMCJer8sf",
        "colab_type": "code",
        "colab": {
          "base_uri": "https://localhost:8080/",
          "height": 35
        },
        "outputId": "f2a00c4b-3ea9-4d90-ef85-76839cbb7dd4"
      },
      "source": [
        "from google.colab import drive\n",
        "drive.mount('/content/drive')\n"
      ],
      "execution_count": 1,
      "outputs": [
        {
          "output_type": "stream",
          "text": [
            "Drive already mounted at /content/drive; to attempt to forcibly remount, call drive.mount(\"/content/drive\", force_remount=True).\n"
          ],
          "name": "stdout"
        }
      ]
    },
    {
      "cell_type": "code",
      "metadata": {
        "id": "5mbc1-Ou2Q2A",
        "colab_type": "code",
        "colab": {
          "base_uri": "https://localhost:8080/",
          "height": 90
        },
        "outputId": "931ae9a7-5350-4755-a97e-0b5936045848"
      },
      "source": [
        "import pandas as pd\n",
        "import nltk\n",
        "from sklearn.metrics import classification_report\n",
        "from sklearn.metrics import f1_score\n",
        "from sklearn.metrics import accuracy_score\n",
        "\n",
        "!pip install vaderSentiment\n",
        "nltk.download('opinion_lexicon')"
      ],
      "execution_count": 2,
      "outputs": [
        {
          "output_type": "stream",
          "text": [
            "Requirement already satisfied: vaderSentiment in /usr/local/lib/python3.6/dist-packages (3.3.1)\n",
            "[nltk_data] Downloading package opinion_lexicon to /root/nltk_data...\n",
            "[nltk_data]   Package opinion_lexicon is already up-to-date!\n"
          ],
          "name": "stdout"
        },
        {
          "output_type": "execute_result",
          "data": {
            "text/plain": [
              "True"
            ]
          },
          "metadata": {
            "tags": []
          },
          "execution_count": 2
        }
      ]
    },
    {
      "cell_type": "markdown",
      "metadata": {
        "id": "DAy0gwE52WzV",
        "colab_type": "text"
      },
      "source": [
        "#1. Setting up two dataframes for the Opinion Lexicon and Vader Lexicon"
      ]
    },
    {
      "cell_type": "code",
      "metadata": {
        "id": "30ygGrbi2dJP",
        "colab_type": "code",
        "colab": {}
      },
      "source": [
        "from vaderSentiment.vaderSentiment import SentimentIntensityAnalyzer\n",
        "from nltk.corpus import opinion_lexicon\n",
        "from nltk.tokenize import TweetTokenizer\n",
        "\n",
        "hotelDataOp = pd.read_csv('/content/drive/My Drive/Feature_generated_sets/raw/Hotel_reviews_features_selected.csv')\n",
        "hotelDataVader = pd.read_csv('/content/drive/My Drive/tokenTrue_remStpwrdsTrue_stemmTrue_lemmatizeFalse_nGramFalse_nGram_length2.csv')\n",
        "hotelData = pd.read_csv('/content/drive/My Drive/Feature_generated_sets/raw/Hotel_reviews_features_selected.csv')\n",
        "\n",
        "review_HotelData = hotelData['Reviewer_Score']\n",
        "\n",
        "review_OpinionLexicon = hotelDataOp[\"Review\"]\n",
        "review_VaderLexicon = hotelDataVader[\"Review\"]\n",
        "\n",
        "review_HotelData = review_HotelData.astype(str)\n",
        "reviewOpinionLexicon = review_OpinionLexicon.astype(str)\n",
        "reviewVaderLexicon = review_VaderLexicon.astype(str)"
      ],
      "execution_count": 0,
      "outputs": []
    },
    {
      "cell_type": "markdown",
      "metadata": {
        "id": "QjZ0Q0nV2xD5",
        "colab_type": "text"
      },
      "source": [
        "# 2. Opinion Lexicon\n",
        "Filling two lists, one with positive and one with negative words.\n",
        "Run the opinion lexicon on the review dataset.\n",
        "Define the opinion lexicon result as 0 = \"good\", 1 = \"ok\" or 2 = \"bad\"."
      ]
    },
    {
      "cell_type": "code",
      "metadata": {
        "id": "JM-CYBKZ20As",
        "colab_type": "code",
        "colab": {}
      },
      "source": [
        "positive_list=set(opinion_lexicon.positive())\n",
        "negative_list=set(opinion_lexicon.negative())\n",
        "\n",
        "tokenizer = TweetTokenizer()"
      ],
      "execution_count": 0,
      "outputs": []
    },
    {
      "cell_type": "code",
      "metadata": {
        "id": "Wc0hQJNG24Ee",
        "colab_type": "code",
        "colab": {}
      },
      "source": [
        "#counts the negative vs the positive words \n",
        "def scoreOpinionLexicon(review):\n",
        "    score=0\n",
        "        \n",
        "    words = [word.lower() for word in tokenizer.tokenize(review)]\n",
        "      \n",
        "    for word in words:\n",
        "            if word in positive_list:\n",
        "              score += 1\n",
        "            elif word in negative_list:\n",
        "              score -= 1 \n",
        "    return score"
      ],
      "execution_count": 0,
      "outputs": []
    },
    {
      "cell_type": "code",
      "metadata": {
        "id": "mCYBuZTR28xy",
        "colab_type": "code",
        "colab": {}
      },
      "source": [
        "reviewOpinionLexicon = reviewOpinionLexicon.apply(scoreOpinionLexicon)"
      ],
      "execution_count": 0,
      "outputs": []
    },
    {
      "cell_type": "code",
      "metadata": {
        "id": "a0GQpRVq29bm",
        "colab_type": "code",
        "colab": {}
      },
      "source": [
        "#rates the review as negative, postive or neutral depending on the positiv or negativ word count\n",
        "def rateOpinionLexicon(review):\n",
        "    rating = \"0\"\n",
        "    \n",
        "    if review < 0:\n",
        "        rating = \"2\"\n",
        "    elif review > 0:\n",
        "        rating = \"0\"\n",
        "    else:\n",
        "        rating = \"1\"\n",
        "        \n",
        "    return rating"
      ],
      "execution_count": 0,
      "outputs": []
    },
    {
      "cell_type": "code",
      "metadata": {
        "id": "0q1mIiGt3ADC",
        "colab_type": "code",
        "colab": {}
      },
      "source": [
        "reviewOpinionLexicon = reviewOpinionLexicon.apply(rateOpinionLexicon)"
      ],
      "execution_count": 0,
      "outputs": []
    },
    {
      "cell_type": "code",
      "metadata": {
        "id": "qsUBeCBw3CU9",
        "colab_type": "code",
        "colab": {}
      },
      "source": [
        "reviewOpinionLexicon.to_csv(\"NLTK_Opinion_Lexicon.csv\", header = ['Rating'], index = False)"
      ],
      "execution_count": 0,
      "outputs": []
    },
    {
      "cell_type": "markdown",
      "metadata": {
        "id": "XTElq0BL3C8P",
        "colab_type": "text"
      },
      "source": [
        "# 2. Vader Lexicon\n",
        "Run the Vader lexicon on the review dataset.\n",
        "Define the Vader lexicon compound result as 0 = \"good\", 1 = \"ok\" or 2 = \"bad\"."
      ]
    },
    {
      "cell_type": "code",
      "metadata": {
        "id": "je8hFSi23HP5",
        "colab_type": "code",
        "colab": {}
      },
      "source": [
        "def rateVaderLexicon(review): \n",
        "    rating = \"0\"\n",
        "\n",
        "    # Create a SentimentIntensityAnalyzer object. \n",
        "    analyzer = SentimentIntensityAnalyzer()\n",
        "\n",
        "    # Polarity_scores method of SentimentIntensityAnalyzer \n",
        "    # Generated score contains positive, negative, neutral, and compound scores. \n",
        "    score = analyzer.polarity_scores(review) \n",
        "    \n",
        "    # Decide if review is positive, negative or neutral\n",
        "    # Generated compound contains the offsetting of the shares of neutral, positive and negative words  \n",
        "    if score['compound'] >= 0.725 : \n",
        "        rating = \"0\"\n",
        "    elif score['compound'] <= 0.55 : \n",
        "        rating = \"2\" \n",
        "    else: \n",
        "        rating = \"1\"\n",
        "    \n",
        "    return rating"
      ],
      "execution_count": 0,
      "outputs": []
    },
    {
      "cell_type": "code",
      "metadata": {
        "id": "03chr8253Khm",
        "colab_type": "code",
        "colab": {}
      },
      "source": [
        "y = len(reviewVaderLexicon)\n",
        "i = 0\n",
        "while i<y:\n",
        "    reviewVaderLexicon[i]= rateVaderLexicon(reviewVaderLexicon[i])\n",
        "    i+=1"
      ],
      "execution_count": 0,
      "outputs": []
    },
    {
      "cell_type": "code",
      "metadata": {
        "id": "Fla-fVL23MQU",
        "colab_type": "code",
        "colab": {}
      },
      "source": [
        "reviewVaderLexicon.to_csv(\"Vader_Lexicon.csv\", header = ['Rating'], index = False)"
      ],
      "execution_count": 0,
      "outputs": []
    },
    {
      "cell_type": "markdown",
      "metadata": {
        "id": "57jxFJ-23XQo",
        "colab_type": "text"
      },
      "source": [
        "#3. Create Classification Report"
      ]
    },
    {
      "cell_type": "code",
      "metadata": {
        "id": "NNs95b873b2p",
        "colab_type": "code",
        "colab": {
          "base_uri": "https://localhost:8080/",
          "height": 403
        },
        "outputId": "dc7dc560-d873-4537-e208-3de2baf9df85"
      },
      "source": [
        "valid = review_HotelData\n",
        "predictionOpinionLexicon = reviewOpinionLexicon\n",
        "\n",
        "\n",
        "reportOpinionLexicon = classification_report(valid, predictionOpinionLexicon, output_dict=True)\n",
        "reportOpinionLexicon"
      ],
      "execution_count": 13,
      "outputs": [
        {
          "output_type": "execute_result",
          "data": {
            "text/plain": [
              "{'0': {'f1-score': 0.7390001205949744,\n",
              "  'precision': 0.6509166088064914,\n",
              "  'recall': 0.8546538129222312,\n",
              "  'support': 293974},\n",
              " '1': {'f1-score': 0.23471682301729557,\n",
              "  'precision': 0.31556545905210187,\n",
              "  'recall': 0.18684633801042153,\n",
              "  'support': 134913},\n",
              " '2': {'f1-score': 0.40022235387912436,\n",
              "  'precision': 0.5486283789203498,\n",
              "  'recall': 0.3150107655640119,\n",
              "  'support': 86851},\n",
              " 'accuracy': 0.5890839922596357,\n",
              " 'macro avg': {'f1-score': 0.4579797658304648,\n",
              "  'precision': 0.5050368155929811,\n",
              "  'recall': 0.4521703054988882,\n",
              "  'support': 515738},\n",
              " 'weighted avg': {'f1-score': 0.5500329311632559,\n",
              "  'precision': 0.545965907635247,\n",
              "  'recall': 0.5890839922596357,\n",
              "  'support': 515738}}"
            ]
          },
          "metadata": {
            "tags": []
          },
          "execution_count": 13
        }
      ]
    },
    {
      "cell_type": "code",
      "metadata": {
        "id": "Kb3XftbV3h2m",
        "colab_type": "code",
        "colab": {
          "base_uri": "https://localhost:8080/",
          "height": 403
        },
        "outputId": "3212f653-7b6b-4c3b-87e5-13a67b77cc37"
      },
      "source": [
        "valid = review_HotelData\n",
        "predictionVaderLexicon = reviewVaderLexicon\n",
        "\n",
        "reportVaderLexicon = classification_report(valid, predictionVaderLexicon, output_dict=True)\n",
        "reportVaderLexicon"
      ],
      "execution_count": 14,
      "outputs": [
        {
          "output_type": "execute_result",
          "data": {
            "text/plain": [
              "{'0': {'f1-score': 0.5588439977194843,\n",
              "  'precision': 0.6924136613423028,\n",
              "  'recall': 0.4684734024097369,\n",
              "  'support': 293974},\n",
              " '1': {'f1-score': 0.20961373390557944,\n",
              "  'precision': 0.26839200805210733,\n",
              "  'recall': 0.17195526005648085,\n",
              "  'support': 134913},\n",
              " '2': {'f1-score': 0.37690816535594396,\n",
              "  'precision': 0.2594920227079391,\n",
              "  'recall': 0.6883973702087484,\n",
              "  'support': 86851},\n",
              " 'accuracy': 0.42794209462944366,\n",
              " 'macro avg': {'f1-score': 0.38178863232700255,\n",
              "  'precision': 0.4067658973674497,\n",
              "  'recall': 0.44294201089165536,\n",
              "  'support': 515738},\n",
              " 'weighted avg': {'f1-score': 0.43684986201776915,\n",
              "  'precision': 0.5085883264874477,\n",
              "  'recall': 0.42794209462944366,\n",
              "  'support': 515738}}"
            ]
          },
          "metadata": {
            "tags": []
          },
          "execution_count": 14
        }
      ]
    }
  ]
}