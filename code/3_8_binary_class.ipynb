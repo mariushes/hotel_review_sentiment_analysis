{
  "nbformat": 4,
  "nbformat_minor": 0,
  "metadata": {
    "colab": {
      "name": "3-5-binary-class.ipynb",
      "provenance": [],
      "collapsed_sections": [
        "xT4yjKZPWEaP",
        "sJnPW_oDXgVq",
        "giYS2e4IX0w0",
        "INuucYzeYs0O",
        "9nMUZwBPdj-D"
      ],
      "machine_shape": "hm"
    },
    "kernelspec": {
      "name": "python3",
      "display_name": "Python 3"
    }
  },
  "cells": [
    {
      "cell_type": "markdown",
      "metadata": {
        "id": "qQIaSZZgSizi",
        "colab_type": "text"
      },
      "source": [
        "# Binary Classification with probability threshold for the \"ok\" class\n",
        "\n",
        "In this notebook we tried to optimize the better performing classifiers SVC, Random Forest and Ensemble. We use the feature sets which worked best on the individual classifiers. We did this by training a binary classifier for the classes good and bad with a training set with only \"good\" and \"bad\" samples, i.e. dropped the \"ok\" samples. We then implemented an architecture that predicts all three classes based on the prediction probability and a threshold. For probabilities under this threshold we predict \"ok\". For each classifier we optimize the threshold and then test on the test set."
      ]
    },
    {
      "cell_type": "code",
      "metadata": {
        "id": "A3N0ade2s1Nw",
        "colab_type": "code",
        "colab": {}
      },
      "source": [
        "from google.colab import drive\n",
        "drive.mount('/content/drive')"
      ],
      "execution_count": 0,
      "outputs": []
    },
    {
      "cell_type": "code",
      "metadata": {
        "id": "I1S1sYksy4vy",
        "colab_type": "code",
        "colab": {}
      },
      "source": [
        "# package imports\n",
        "import pandas as pd\n",
        "import numpy as np\n",
        "import matplotlib.pyplot as plt\n",
        "from sklearn.model_selection import train_test_split\n",
        "from sklearn import svm, metrics, model_selection\n",
        "from ast import literal_eval\n",
        "import time\n",
        "from sklearn.multiclass import OneVsRestClassifier\n",
        "import statistics\n",
        "from sklearn.svm import SVC #Quelle Buch\n",
        "from sklearn.ensemble import RandomForestClassifier\n",
        "from sklearn.linear_model import LogisticRegression\n",
        "from sklearn.neighbors import KNeighborsClassifier\n",
        "from sklearn.ensemble import VotingClassifier\n",
        "from sklearn.naive_bayes import GaussianNB\n",
        "from sklearn.naive_bayes import MultinomialNB\n",
        "from sklearn.svm import LinearSVC\n",
        "import time"
      ],
      "execution_count": 0,
      "outputs": []
    },
    {
      "cell_type": "code",
      "metadata": {
        "id": "KxX3akh694CU",
        "colab_type": "code",
        "colab": {}
      },
      "source": [
        "# Function to split train valid test with the option to upsample and drop all samples with \"ok\" as the class\n",
        "def train_test_valid_split(df,upsampling=True, print_distribution = False, drop_1 = False):\n",
        "    train,test = train_test_split(df,test_size=0.3,stratify=df[\"Reviewer_Score\"], random_state=42)\n",
        "    test,valid = train_test_split(test,test_size=0.5,stratify=test[\"Reviewer_Score\"], random_state=42)\n",
        "    #Zusammengefasst, folgende Aufteilung:\n",
        "    #70% Training, 15% Validation, 15% Test\n",
        "\n",
        "\n",
        "    unique, counts_train = np.unique(train[\"Reviewer_Score\"], return_counts=True)\n",
        "    if(upsampling): #Idee: reduce class 0 to the size of class 1, dupliate samples from class 2 to the size of class 1\n",
        "        train_0 = train[train[\"Reviewer_Score\"]==0].sample(frac=(counts_train[1]/counts_train[0]), random_state=42)\n",
        "        train_1 = train[train[\"Reviewer_Score\"]==1]\n",
        "        train_2 = train[train[\"Reviewer_Score\"]==2]\n",
        "        train = train_0.append(train_1).append(train_2)\n",
        "        train = train.sample(frac=1, random_state=42)\n",
        "    \n",
        "    if (print_distribution):\n",
        "      unique, counts_train = np.unique(train[\"Reviewer_Score\"], return_counts=True)\n",
        "      plt.bar(unique, counts_train)\n",
        "      unique, counts = np.unique(test[\"Reviewer_Score\"], return_counts=True)\n",
        "      plt.bar(unique, counts)\n",
        "      unique, counts = np.unique(valid[\"Reviewer_Score\"], return_counts=True)\n",
        "      plt.bar(unique, counts)\n",
        "      plt.title('Class Frequency')\n",
        "      plt.xlabel('Class')\n",
        "      plt.ylabel('Frequency')\n",
        "      plt.show()\n",
        "    \n",
        "    if drop_1:\n",
        "      train = train.loc[train['Reviewer_Score'] != 1]\n",
        "      valid = valid.loc[valid['Reviewer_Score'] != 1]\n",
        "      test = test.loc[test['Reviewer_Score'] != 1]\n",
        "    return train,valid,test\n",
        "\n",
        "# function to load all feature sets from Google Drive\n",
        "def load_from_source():\n",
        "  # list that holds a list for each category of features with the file paths for the feature data\n",
        "  feature_filepaths=[[\"/fast_text/fast_text_nonswr_features.pkl\", \"/fast_text/fast_text_swr_features.pkl\"],[\"/doc2vec/Pretrained_withScore.csv\", \"/doc2vec/Owntrained_withScore.csv\"],[\"/BOW/tf_561-woerter.pkl\", \"/BOW/tfidf_561-woerter.pkl\"]]\n",
        "  # list that holds a list for each category of features with the labels for the feature data, fill this in the same way the filepath array is filled\n",
        "  feature_labels = [[\"fast text without stop-word removal\", \"fast text with stop-word removal\"],[\"Doc2Vec Pretrained\",\"Doc2Vec Owntrained\"],[\"BOW TF\", \"BOW TF IDF\"]]\n",
        "  # Load the dataframes and safe them in the same structure like the filepath and labels\n",
        "  dataframes = []\n",
        "  for feature_type_filepaths in feature_filepaths:\n",
        "    feature_type_dataframes = []\n",
        "    for feature_filepath in feature_type_filepaths:\n",
        "      if feature_filepath[-3:] == \"csv\":\n",
        "        df =  pd.read_csv(\"/content/drive/My Drive/Feature_generated_sets\" + feature_filepath)\n",
        "        if 'Unnamed: 0' in df.columns:\n",
        "          df = df.drop('Unnamed: 0', 1)\n",
        "      if feature_filepath[-3:] == \"pkl\":\n",
        "        df =  pd.read_pickle(\"/content/drive/My Drive/Feature_generated_sets\" + feature_filepath)\n",
        "        if 'Unnamed: 0' in df.columns:\n",
        "          df = df.drop('Unnamed: 0', 1)\n",
        "      feature_type_dataframes.append(df)\n",
        "    dataframes.append(feature_type_dataframes)\n",
        "  return dataframes\n",
        "\n",
        "# function to split all dataframes with the option of a reduced test size and passing of upsampling and drop class \"ok\" to the split function\n",
        "def split_dataframes(dataframes,test_boolean=False,test_size=100000000, upsampling = False,drop_1=False):\n",
        "  # split the dataframes with the upper method and save them in a dictonary in arrays like the filepath\n",
        "  test_samples = lambda df: df[0:test_size] if test_boolean else df\n",
        "  split_dataframes = [] \n",
        "  for feature_type_dataframes in dataframes:\n",
        "    feature_type_split_dataframes = []\n",
        "    for feature_data in feature_type_dataframes:\n",
        "      train, valid, test = train_test_valid_split(feature_data, upsampling=upsampling, drop_1=drop_1)\n",
        "      train, valid, test = test_samples(train),test_samples(valid), test_samples(test)\n",
        "      feature_type_split_dataframes.append({\"train\": train, \"valid\": valid, \"test\":test}) \n",
        "\n",
        "    split_dataframes.append(feature_type_split_dataframes)\n",
        "\n",
        "  return split_dataframes\n",
        "\n",
        "# function to transform the data to feature and label numpy arrays if their are split\n",
        "def trans_to_numpy_split(split_dataframes):\n",
        "  # transform data to numpy arrays\n",
        "  split_types = [\"train\", \"valid\", \"test\"]\n",
        "  for feature_type_dataframes in split_dataframes:\n",
        "    for feature_data in feature_type_dataframes:\n",
        "      if len(feature_data[\"train\"].columns) == 2:\n",
        "        for st in split_types:\n",
        "          features = np.array(feature_data[st][\"Review\"].tolist())\n",
        "          label = np.array(feature_data[st][\"Reviewer_Score\"].tolist())\n",
        "          feature_data[st] = {\"features\": features, \"label\": label}\n",
        "      elif len(feature_data[\"train\"].columns) == 301:\n",
        "        for st in split_types:\n",
        "          features = np.array(feature_data[st].loc[:, :'299'].values)\n",
        "          label = np.array(feature_data[st][\"Reviewer_Score\"].values)\n",
        "          feature_data[st] = {\"features\": features, \"label\": label}\n",
        "      elif len(feature_data[\"train\"].columns) == 562:\n",
        "        for st in split_types:\n",
        "          features = np.array(feature_data[st].loc[:, :'yet'].values)\n",
        "          label = np.array(feature_data[st][\"Reviewer_Score\"].values)\n",
        "          feature_data[st] = {\"features\": features, \"label\": label}\n",
        "  return split_dataframes\n",
        "\n",
        "# function to transform the data to feature and label numpy arrays if their are not split\n",
        "def trans_to_numpy_unsplit(dataframes, test, test_size):\n",
        "  # transform data to numpy arrays\n",
        "  df_result = []\n",
        "  for feature_type_dataframes in dataframes:\n",
        "    df_types = []\n",
        "    for feature_data in feature_type_dataframes:\n",
        "      if test:\n",
        "        feature_data = feature_data[:test_size]\n",
        "      if len(feature_data.columns) == 2:\n",
        "        features = np.array(feature_data[\"Review\"].tolist())\n",
        "        label = np.array(feature_data[\"Reviewer_Score\"].tolist())\n",
        "        feature_data = {\"features\": features, \"label\": label}\n",
        "      elif len(feature_data.columns) == 301:\n",
        "        features = np.array(feature_data.loc[:, :'299'].values)\n",
        "        label = np.array(feature_data[\"Reviewer_Score\"].values)\n",
        "        feature_data = {\"features\": features, \"label\": label}\n",
        "      elif len(feature_data.columns) == 562:\n",
        "        features = np.array(feature_data.loc[:, :'yet'].values)\n",
        "        label = np.array(feature_data[\"Reviewer_Score\"].values)\n",
        "        feature_data = {\"features\": features, \"label\": label}\n",
        "      df_types.append(feature_data)\n",
        "    df_result.append(df_types)\n",
        "  return df_result"
      ],
      "execution_count": 0,
      "outputs": []
    },
    {
      "cell_type": "code",
      "metadata": {
        "id": "-6Dm0oCnqL-5",
        "colab_type": "code",
        "colab": {}
      },
      "source": [
        "# load all dataframes from google drive\n",
        "dataframes = load_from_source()"
      ],
      "execution_count": 0,
      "outputs": []
    },
    {
      "cell_type": "markdown",
      "metadata": {
        "id": "b4VaazcxtQSw",
        "colab_type": "text"
      },
      "source": [
        "## LinearSVC Test only binary classification\n",
        "We removed all \"ok\" class samples in both train, valid, test set"
      ]
    },
    {
      "cell_type": "code",
      "metadata": {
        "id": "f29WXlcdtPNb",
        "colab_type": "code",
        "colab": {}
      },
      "source": [
        "dicts = trans_to_numpy_split(split_dataframes(dataframes, False, upsampling=True, drop_1=True))\n",
        "train_x, train_y, valid_x, valid_y, test_x, test_y = dicts[2][0][\"train\"][\"features\"],dicts[2][0][\"train\"][\"label\"], dicts[2][0][\"valid\"][\"features\"],dicts[2][0][\"valid\"][\"label\"], dicts[2][0][\"test\"][\"features\"],dicts[2][0][\"test\"][\"label\"]\n",
        "svc = svm.LinearSVC()\n",
        "param_grid =  { 'dual' : [False] ,\"tol\": [0.000001,0.00001,0.0001,0.001], 'C': [0.01, 0.1, 1, 10], \"multi_class\": [\"ovr\",\"crammer_singer\"]}\n",
        "grid_svm = model_selection.GridSearchCV(svc,\n",
        "                    param_grid= param_grid, \n",
        "                    scoring=\"f1_macro\",\n",
        "                    cv=4,   \n",
        "                    n_jobs=-1) \n",
        "print(\"Training now\")\n",
        "time1 = time.time()\n",
        "grid_svm.fit(train_x, train_y)\n",
        "print(time.time()-time1)\n",
        "# from https://scikit-learn.org/stable/auto_examples/model_selection/plot_grid_search_digits.html\n",
        "print(\"Best parameters set found on development set:\")\n",
        "print()\n",
        "print(grid_svm.best_params_)\n",
        "print()\n",
        "print(\"Detailed classification report:\")\n",
        "print()\n",
        "y_true, y_pred = test_y, grid_svm.predict(test_x)\n",
        "print(metrics.classification_report(y_true, y_pred))\n",
        "print()"
      ],
      "execution_count": 0,
      "outputs": []
    },
    {
      "cell_type": "markdown",
      "metadata": {
        "id": "xT4yjKZPWEaP",
        "colab_type": "text"
      },
      "source": [
        "## SVC binary classification"
      ]
    },
    {
      "cell_type": "code",
      "metadata": {
        "id": "rA4gkqlZdbdg",
        "colab_type": "code",
        "outputId": "23b6c053-7718-4c1e-c8d0-fbe98ce8fabc",
        "colab": {
          "base_uri": "https://localhost:8080/",
          "height": 445
        }
      },
      "source": [
        "# Train the binary SVC classifier and find the optimal threshold value.\n",
        "# We use the BOW TF data set.\n",
        "# Output: Multiple classification reports for each threshold in the defined range [0.5, 0.8]\n",
        "dicts_train = trans_to_numpy_split(split_dataframes(dataframes, True, 20000, upsampling=True, drop_1=True))\n",
        "dicts_valid = trans_to_numpy_split(split_dataframes(dataframes, True, 20000))\n",
        "train_x, train_y = dicts_train[2][0][\"train\"][\"features\"],dicts_train[2][0][\"train\"][\"label\"]\n",
        "valid_x, valid_y, test_x, test_y = dicts_valid[2][0][\"valid\"][\"features\"],dicts_valid[2][0][\"valid\"][\"label\"], dicts_valid[2][0][\"test\"][\"features\"],dicts_valid[2][0][\"test\"][\"label\"]\n",
        "svc = svm.SVC(probability=True)\n",
        "t0 = time.time()\n",
        "svc.fit(train_x, train_y)\n",
        "t1 = time.time()\n",
        "prediction_proba = svc.predict_proba(valid_x)\n",
        "predictions = []\n",
        "confidence_levels = np.arange(0.5, 0.83, 0.03)\n",
        "for level in confidence_levels:\n",
        "  prediction = []\n",
        "  for instance in prediction_proba:\n",
        "    high_confidence_class = 1\n",
        "    for i, proba in enumerate(instance):\n",
        "      if proba > level:\n",
        "        if i == 0: high_confidence_class = 0\n",
        "        else: high_confidence_class = 2\n",
        "    prediction.append(high_confidence_class)\n",
        "  predictions.append(prediction)\n",
        "  print(\"Report \" + str(level))\n",
        "  report = metrics.classification_report(valid_y, prediction, output_dict=True)\n",
        "  print(report)\n",
        "t2 = time.time()\n",
        "time_train = t1-t0\n",
        "time_predict = t2-t1\n",
        "print(time_train)\n",
        "print(time_predict)\n",
        "\n"
      ],
      "execution_count": 0,
      "outputs": [
        {
          "output_type": "stream",
          "text": [
            "Report 0.5\n",
            "{'0': {'precision': 0.7445170321978535, 'recall': 0.8406955299903398, 'f1-score': 0.789688595586719, 'support': 11387}, '1': {'precision': 0.32558139534883723, 'recall': 0.005345551737304314, 'f1-score': 0.010518407212622089, 'support': 5238}, '2': {'precision': 0.401218820861678, 'recall': 0.8388148148148148, 'f1-score': 0.5428051001821493, 'support': 3375}, 'accuracy': 0.6216, 'macro avg': {'precision': 0.4904390828027896, 'recall': 0.5616186321808196, 'f1-score': 0.4476707009938301, 'support': 20000}, 'weighted avg': {'precision': 0.5768662157441166, 'recall': 0.6216, 'f1-score': 0.5439623334020219, 'support': 20000}}\n",
            "Report 0.53\n",
            "{'0': {'precision': 0.7494042891183479, 'recall': 0.8285764468253272, 'f1-score': 0.787004212370188, 'support': 11387}, '1': {'precision': 0.3751987281399046, 'recall': 0.045055364642993506, 'f1-score': 0.08044997443327083, 'support': 5238}, '2': {'precision': 0.41085385636336824, 'recall': 0.8254814814814815, 'f1-score': 0.5486411973217802, 'support': 3375}, 'accuracy': 0.62285, 'macro avg': {'precision': 0.5118189578738735, 'recall': 0.5663710976499341, 'f1-score': 0.472031794708413, 'support': 20000}, 'weighted avg': {'precision': 0.5942694671706907, 'recall': 0.62285, 'f1-score': 0.5617338986650906, 'support': 20000}}\n",
            "Report 0.56\n",
            "{'0': {'precision': 0.755787414411477, 'recall': 0.8142618775796961, 'f1-score': 0.7839357429718876, 'support': 11387}, '1': {'precision': 0.36651234567901236, 'recall': 0.09068346697212677, 'f1-score': 0.14539332721150905, 'support': 5238}, '2': {'precision': 0.4232442510876321, 'recall': 0.8071111111111111, 'f1-score': 0.5552950769544389, 'support': 3375}, 'accuracy': 0.62355, 'macro avg': {'precision': 0.5151813370593739, 'recall': 0.5706854852209781, 'f1-score': 0.4948747157126119, 'support': 20000}, 'weighted avg': {'precision': 0.5977196150995456, 'recall': 0.62355, 'f1-score': 0.5781183718938, 'support': 20000}}\n",
            "Report 0.5900000000000001\n",
            "{'0': {'precision': 0.762402088772846, 'recall': 0.7949416000702556, 'f1-score': 0.7783319002579536, 'support': 11387}, '1': {'precision': 0.36717594874322323, 'recall': 0.1422298587247041, 'f1-score': 0.205036466217146, 'support': 5238}, '2': {'precision': 0.4370285339455559, 'recall': 0.7896296296296297, 'f1-score': 0.5626517470706218, 'support': 3375}, 'accuracy': 0.6231, 'macro avg': {'precision': 0.5222021904872084, 'recall': 0.5756003628081965, 'f1-score': 0.5153400378485739, 'support': 20000}, 'weighted avg': {'precision': 0.6039855753219826, 'recall': 0.6231, 'f1-score': 0.5917898002323038, 'support': 20000}}\n",
            "Report 0.6200000000000001\n",
            "{'0': {'precision': 0.7705003474635164, 'recall': 0.7789584614033547, 'f1-score': 0.7747063190532337, 'support': 11387}, '1': {'precision': 0.3743435858964741, 'recall': 0.1905307369224895, 'f1-score': 0.2525303643724696, 'support': 5238}, '2': {'precision': 0.44881484026107865, 'recall': 0.7742222222222223, 'f1-score': 0.5682287702511688, 'support': 3375}, 'accuracy': 0.62405, 'macro avg': {'precision': 0.531219591207023, 'recall': 0.5812371401826888, 'f1-score': 0.5318218178922908, 'support': 20000}, 'weighted avg': {'precision': 0.6124624622686966, 'recall': 0.62405, 'f1-score': 0.6031053501619931, 'support': 20000}}\n",
            "Report 0.6500000000000001\n",
            "{'0': {'precision': 0.7792966993434661, 'recall': 0.760955475542285, 'f1-score': 0.7700168843863858, 'support': 11387}, '1': {'precision': 0.37869476148668424, 'recall': 0.24704085528827796, 'f1-score': 0.2990179087232814, 'support': 5238}, '2': {'precision': 0.4661420204978038, 'recall': 0.7546666666666667, 'f1-score': 0.5763095372779725, 'support': 3375}, 'accuracy': 0.6253, 'macro avg': {'precision': 0.541377827109318, 'recall': 0.5875543324990766, 'f1-score': 0.5484481101292132, 'support': 20000}, 'weighted avg': {'precision': 0.6215341997635694, 'recall': 0.6253, 'f1-score': 0.613974137835674, 'support': 20000}}\n",
            "Report 0.6800000000000002\n",
            "{'0': {'precision': 0.7862133209129017, 'recall': 0.7411961008167208, 'f1-score': 0.7630413163366784, 'support': 11387}, '1': {'precision': 0.3783652680087315, 'recall': 0.29782359679266895, 'f1-score': 0.3332977246020724, 'support': 5238}, '2': {'precision': 0.48210812913263323, 'recall': 0.7345185185185186, 'f1-score': 0.5821298579311964, 'support': 3375}, 'accuracy': 0.62395, 'macro avg': {'precision': 0.5488955726847555, 'recall': 0.5911794053759695, 'f1-score': 0.5594896329566491, 'support': 20000}, 'weighted avg': {'precision': 0.6280801647443792, 'recall': 0.62395, 'f1-score': 0.61996266105546, 'support': 20000}}\n",
            "Report 0.7100000000000002\n",
            "{'0': {'precision': 0.7950116913484022, 'recall': 0.7166066567137964, 'f1-score': 0.7537758071220729, 'support': 11387}, '1': {'precision': 0.37520424836601307, 'recall': 0.35070637647957237, 'f1-score': 0.3625419380303927, 'support': 5238}, '2': {'precision': 0.49793388429752067, 'recall': 0.7140740740740741, 'f1-score': 0.5867315885575167, 'support': 3375}, 'accuracy': 0.62035, 'macro avg': {'precision': 0.556049941337312, 'recall': 0.593795702422481, 'f1-score': 0.5676831112366608, 'support': 20000}, 'weighted avg': {'precision': 0.6349322420914782, 'recall': 0.62035, 'f1-score': 0.6231229449241931, 'support': 20000}}\n",
            "Report 0.7400000000000002\n",
            "{'0': {'precision': 0.801036480032517, 'recall': 0.6922806709405462, 'f1-score': 0.7426983229696628, 'support': 11387}, '1': {'precision': 0.37210535619586355, 'recall': 0.4018709431080565, 'f1-score': 0.3864157870582836, 'support': 5238}, '2': {'precision': 0.5173256330519769, 'recall': 0.6900740740740741, 'f1-score': 0.5913418814269392, 'support': 3375}, 'accuracy': 0.61585, 'macro avg': {'precision': 0.5634891564267858, 'recall': 0.5947418960408922, 'f1-score': 0.5734853304849619, 'support': 20000}, 'weighted avg': {'precision': 0.6408232132717312, 'recall': 0.61585, 'f1-score': 0.623846527304138, 'support': 20000}}\n",
            "Report 0.7700000000000002\n",
            "{'0': {'precision': 0.8116702355460386, 'recall': 0.6657591990866778, 'f1-score': 0.7315096251266464, 'support': 11387}, '1': {'precision': 0.37135847899417357, 'recall': 0.4623902252768232, 'f1-score': 0.4119047619047619, 'support': 5238}, '2': {'precision': 0.5386660222329628, 'recall': 0.6604444444444444, 'f1-score': 0.5933714894183416, 'support': 3375}, 'accuracy': 0.6116, 'macro avg': {'precision': 0.5738982455910583, 'recall': 0.5961979562693152, 'f1-score': 0.57892862548325, 'support': 20000}, 'weighted avg': {'precision': 0.6502831255085235, 'recall': 0.6116, 'f1-score': 0.6244943010480585, 'support': 20000}}\n",
            "Report 0.8000000000000003\n",
            "{'0': {'precision': 0.8203151570116767, 'recall': 0.635461491174146, 'f1-score': 0.7161520190023754, 'support': 11387}, '1': {'precision': 0.36462970457304733, 'recall': 0.516036655211913, 'f1-score': 0.4273179985771876, 'support': 5238}, '2': {'precision': 0.5605416887944769, 'recall': 0.6254814814814815, 'f1-score': 0.5912337207673996, 'support': 3375}, 'accuracy': 0.6025, 'macro avg': {'precision': 0.5818288501264003, 'recall': 0.5923265426225135, 'f1-score': 0.5782345794489875, 'support': 20000}, 'weighted avg': {'precision': 0.6571343642563472, 'recall': 0.6025, 'f1-score': 0.6194264262258665, 'support': 20000}}\n",
            "1676.533550977707\n",
            "197.0838921070099\n"
          ],
          "name": "stdout"
        }
      ]
    },
    {
      "cell_type": "code",
      "metadata": {
        "id": "MFsZtBBjh5Wf",
        "colab_type": "code",
        "colab": {}
      },
      "source": [
        "# We test the classifiere with the optimal threshold of 0.77.\n",
        "# Output: The classification report of the classifier on the test set.\n",
        "prediction_proba = svc.predict_proba(test_x)\n",
        "predictions = []\n",
        "confidence_levels = [0.77]\n",
        "for level in confidence_levels:\n",
        "  prediction = []\n",
        "  for instance in prediction_proba:\n",
        "    high_confidence_class = 1\n",
        "    for i, proba in enumerate(instance):\n",
        "      if proba > level:\n",
        "        if i == 0: high_confidence_class = 0\n",
        "        else: high_confidence_class = 2\n",
        "    prediction.append(high_confidence_class)\n",
        "  predictions.append(prediction)\n",
        "  print(\"Report \" + str(level))\n",
        "  report = metrics.classification_report(test_y, prediction, output_dict=True)\n",
        "  print(report)\n",
        "t2 = time.time()\n",
        "time_train = t1-t0\n",
        "time_predict = t2-t1\n",
        "print(time_train)\n",
        "print(time_predict)"
      ],
      "execution_count": 0,
      "outputs": []
    },
    {
      "cell_type": "markdown",
      "metadata": {
        "id": "sJnPW_oDXgVq",
        "colab_type": "text"
      },
      "source": [
        "## Random Forest binary classification"
      ]
    },
    {
      "cell_type": "code",
      "metadata": {
        "id": "wED9BF4CGrri",
        "colab_type": "code",
        "outputId": "1c5e8883-6d3a-41f9-9c3c-f3bc93581152",
        "colab": {
          "base_uri": "https://localhost:8080/",
          "height": 441
        }
      },
      "source": [
        "# Train the binary Random Forest classifier and find the optimal threshold value.\n",
        "# We use the BOW TF-IDF data set.\n",
        "# Output: Multiple classification reports for each threshold in the defined range [0.5, 0.8]\n",
        "from sklearn.ensemble import RandomForestClassifier\n",
        "dicts_train = trans_to_numpy_split(split_dataframes(dataframes, upsampling=True, drop_1=True))\n",
        "dicts_valid = trans_to_numpy_split(split_dataframes(dataframes))\n",
        "train_x, train_y = dicts_train[2][1][\"train\"][\"features\"],dicts_train[2][1][\"train\"][\"label\"]\n",
        "valid_x, valid_y, test_x, test_y = dicts_valid[2][1][\"valid\"][\"features\"],dicts_valid[2][1][\"valid\"][\"label\"], dicts_valid[2][1][\"test\"][\"features\"],dicts_valid[2][1][\"test\"][\"label\"]\n",
        "classification = RandomForestClassifier(random_state=0, n_jobs=-1)\n",
        "classification.fit(train_x, train_y)\n",
        "prediction_proba = classification.predict_proba(valid_x)\n",
        "predictions = []\n",
        "confidence_levels = np.arange(0.5, 0.83, 0.03)\n",
        "for level in confidence_levels:\n",
        "  prediction = []\n",
        "  for instance in prediction_proba:\n",
        "    high_confidence_class = 1\n",
        "    for i, proba in enumerate(instance):\n",
        "      if proba > level:\n",
        "        if i == 0: high_confidence_class = 0\n",
        "        else: high_confidence_class = 2\n",
        "    prediction.append(high_confidence_class)\n",
        "  predictions.append(prediction)\n",
        "  print(\"Report \" + str(level))\n",
        "  report = metrics.classification_report(valid_y, prediction, output_dict=True)\n",
        "  print(report)\n"
      ],
      "execution_count": 0,
      "outputs": [
        {
          "output_type": "stream",
          "text": [
            "Report 0.5\n",
            "{'0': {'precision': 0.7653844531612468, 'recall': 0.8230265097398916, 'f1-score': 0.7931595913238266, 'support': 44097}, '1': {'precision': 0.41496598639455784, 'recall': 0.009042842318525474, 'f1-score': 0.017699970983654126, 'support': 20237}, '2': {'precision': 0.4128533658735001, 'recall': 0.9349811929070392, 'f1-score': 0.572785628629876, 'support': 13027}, 'accuracy': 0.6289474024379209, 'macro avg': {'precision': 0.5310679351431016, 'recall': 0.5890168483218187, 'f1-score': 0.46121506364578563, 'support': 77361}, 'weighted avg': {'precision': 0.6143543348063268, 'recall': 0.6289474024379209, 'f1-score': 0.5531964581063377, 'support': 77361}}\n",
            "Report 0.53\n",
            "{'0': {'precision': 0.7756444209039548, 'recall': 0.7970156700002268, 'f1-score': 0.786184835978481, 'support': 44097}, '1': {'precision': 0.40143027413587606, 'recall': 0.08321391510599398, 'f1-score': 0.13785199738048462, 'support': 20237}, '2': {'precision': 0.4335104473325196, 'recall': 0.9269210102095647, 'f1-score': 0.5907389740955455, 'support': 13027}, 'accuracy': 0.632166078515014, 'macro avg': {'precision': 0.5368617141241168, 'recall': 0.6023835317719285, 'f1-score': 0.5049252691515037, 'support': 77361}, 'weighted avg': {'precision': 0.6201403431146204, 'recall': 0.632166078515014, 'f1-score': 0.5836747223882139, 'support': 77361}}\n",
            "Report 0.56\n",
            "{'0': {'precision': 0.7843404059040591, 'recall': 0.7712316030568973, 'f1-score': 0.7777307705500989, 'support': 44097}, '1': {'precision': 0.3986175115207373, 'recall': 0.1538765627316302, 'f1-score': 0.2220400014260758, 'support': 20237}, '2': {'precision': 0.4558402382679751, 'recall': 0.916404390880479, 'f1-score': 0.6088331293349654, 'support': 13027}, 'accuracy': 0.6341825984669278, 'macro avg': {'precision': 0.5462660518975905, 'recall': 0.6138375188896689, 'f1-score': 0.5362013004370466, 'support': 77361}, 'weighted avg': {'precision': 0.6281215631094913, 'recall': 0.6341825984669278, 'f1-score': 0.6039255758541616, 'support': 77361}}\n",
            "Report 0.5900000000000001\n",
            "{'0': {'precision': 0.7922378279409285, 'recall': 0.7457423407488037, 'f1-score': 0.7682872695839077, 'support': 44097}, '1': {'precision': 0.3951332560834299, 'recall': 0.21905420763947225, 'f1-score': 0.281854018311292, 'support': 20237}, '2': {'precision': 0.4788292128445581, 'recall': 0.9054271896829661, 'f1-score': 0.6263940520446097, 'support': 13027}, 'accuracy': 0.6348547717842323, 'macro avg': {'precision': 0.5554000989563055, 'recall': 0.6234079126904141, 'f1-score': 0.5588451133132698, 'support': 77361}, 'weighted avg': {'precision': 0.6355829340080602, 'recall': 0.6348547717842323, 'f1-score': 0.617146608903612, 'support': 77361}}\n",
            "Report 0.6200000000000001\n",
            "{'0': {'precision': 0.800161607999596, 'recall': 0.7185976370274622, 'f1-score': 0.757189452681633, 'support': 44097}, '1': {'precision': 0.39348710990502034, 'recall': 0.28660374561446855, 'f1-score': 0.33164651056408495, 'support': 20237}, '2': {'precision': 0.5049741517876537, 'recall': 0.8923006064327934, 'f1-score': 0.6449536703101592, 'support': 13027}, 'accuracy': 0.6348418453742842, 'macro avg': {'precision': 0.5662076232307567, 'recall': 0.632500663024908, 'f1-score': 0.5779298778519589, 'support': 77361}, 'weighted avg': {'precision': 0.6440716038629781, 'recall': 0.6348418453742842, 'f1-score': 0.6269712800030739, 'support': 77361}}\n",
            "Report 0.6500000000000001\n",
            "{'0': {'precision': 0.8088415120421075, 'recall': 0.6900015874095744, 'f1-score': 0.7447102735115952, 'support': 44097}, '1': {'precision': 0.39136880250370615, 'recall': 0.35222612047240204, 'f1-score': 0.3707672301690507, 'support': 20237}, '2': {'precision': 0.5306084533209475, 'recall': 0.876947877485223, 'f1-score': 0.6611685042104349, 'support': 13027}, 'accuracy': 0.6331226328511782, 'macro avg': {'precision': 0.5769395892889203, 'recall': 0.6397251951223998, 'f1-score': 0.5922153359636936, 'support': 77361}, 'weighted avg': {'precision': 0.6527817754967012, 'recall': 0.6331226328511782, 'f1-score': 0.6328220611460714, 'support': 77361}}\n",
            "Report 0.6800000000000002\n",
            "{'0': {'precision': 0.8175024861486007, 'recall': 0.6524706896160737, 'f1-score': 0.7257226454118952, 'support': 44097}, '1': {'precision': 0.38481675392670156, 'recall': 0.4213075060532688, 'f1-score': 0.40223621824357797, 'support': 20237}, '2': {'precision': 0.5598200899550225, 'recall': 0.8599063483534198, 'f1-score': 0.678148742319218, 'support': 13027}, 'accuracy': 0.6269308824860071, 'macro avg': {'precision': 0.5873797766767749, 'recall': 0.6445615146742542, 'f1-score': 0.6020358686582304, 'support': 77361}, 'weighted avg': {'precision': 0.6609237224538667, 'recall': 0.6269308824860071, 'f1-score': 0.6330901812220122, 'support': 77361}}\n",
            "Report 0.7100000000000002\n",
            "{'0': {'precision': 0.8252433053255154, 'recall': 0.6191804431140441, 'f1-score': 0.707513312517005, 'support': 44097}, '1': {'precision': 0.3797929670840926, 'recall': 0.48406384345505754, 'f1-score': 0.4256354551379535, 'support': 20237}, '2': {'precision': 0.5896006925657397, 'recall': 0.836493436708375, 'f1-score': 0.6916753943317784, 'support': 13027}, 'accuracy': 0.6204288982820801, 'macro avg': {'precision': 0.5982123216584493, 'recall': 0.6465792410924922, 'f1-score': 0.6082747206622456, 'support': 77361}, 'weighted avg': {'precision': 0.6690367566587031, 'recall': 0.6204288982820801, 'f1-score': 0.631109404087967, 'support': 77361}}\n",
            "Report 0.7400000000000002\n",
            "{'0': {'precision': 0.8345124376487465, 'recall': 0.5804703267795995, 'f1-score': 0.6846863715393874, 'support': 44097}, '1': {'precision': 0.3736185983827493, 'recall': 0.5479567129515245, 'f1-score': 0.44429753390628446, 'support': 20237}, '2': {'precision': 0.6182972718720602, 'recall': 0.8072464880632533, 'f1-score': 0.7002497086732146, 'support': 13027}, 'accuracy': 0.6101524023732888, 'macro avg': {'precision': 0.608809435967852, 'recall': 0.6452245092647925, 'f1-score': 0.6097445380396288, 'support': 77361}, 'weighted avg': {'precision': 0.6775374297016042, 'recall': 0.6101524023732888, 'f1-score': 0.6244233796657206, 'support': 77361}}\n",
            "Report 0.7700000000000002\n",
            "{'0': {'precision': 0.8439696173777241, 'recall': 0.539220355126199, 'f1-score': 0.6580232735121971, 'support': 44097}, '1': {'precision': 0.3673421021448039, 'recall': 0.6127390423481741, 'f1-score': 0.45931880058526103, 'support': 20237}, '2': {'precision': 0.6516751992741884, 'recall': 0.7719352114838413, 'f1-score': 0.7067257010331015, 'support': 13027}, 'accuracy': 0.597639637543465, 'macro avg': {'precision': 0.6209956395989055, 'recall': 0.6412982029860714, 'f1-score': 0.6080225917101866, 'support': 77361}, 'weighted avg': {'precision': 0.6869068802052035, 'recall': 0.597639637543465, 'f1-score': 0.6142449369432854, 'support': 77361}}\n",
            "Report 0.8000000000000003\n",
            "{'0': {'precision': 0.8537656329635002, 'recall': 0.4938431185794952, 'f1-score': 0.6257399000057468, 'support': 44097}, '1': {'precision': 0.3594620153409688, 'recall': 0.6761871818945496, 'f1-score': 0.46939370551410686, 'support': 20237}, '2': {'precision': 0.6860583200348179, 'recall': 0.7260305519306056, 'f1-score': 0.7054786857121544, 'support': 13027}, 'accuracy': 0.5806414084616279, 'macro avg': {'precision': 0.6330953227797623, 'recall': 0.6320202841348835, 'f1-score': 0.600204097077336, 'support': 77361}, 'weighted avg': {'precision': 0.6962192533232536, 'recall': 0.5806414084616279, 'f1-score': 0.598268425017963, 'support': 77361}}\n"
          ],
          "name": "stdout"
        }
      ]
    },
    {
      "cell_type": "code",
      "metadata": {
        "id": "Q8TnkuXxiApd",
        "colab_type": "code",
        "outputId": "61a743f4-e967-4a3f-e221-a0f84520e4c8",
        "colab": {
          "base_uri": "https://localhost:8080/",
          "height": 74
        }
      },
      "source": [
        "# We test the classifiere with the optimal threshold of 0.74.\n",
        "# Output: The classification report of the classifier on the test set.\n",
        "prediction_proba = classification.predict_proba(test_x)\n",
        "predictions = []\n",
        "confidence_levels = [0.74]\n",
        "for level in confidence_levels:\n",
        "  prediction = []\n",
        "  for instance in prediction_proba:\n",
        "    high_confidence_class = 1\n",
        "    for i, proba in enumerate(instance):\n",
        "      if proba > level:\n",
        "        if i == 0: high_confidence_class = 0\n",
        "        else: high_confidence_class = 2\n",
        "    prediction.append(high_confidence_class)\n",
        "  predictions.append(prediction)\n",
        "  print(\"Report \" + str(level))\n",
        "  report = metrics.classification_report(test_y, prediction, output_dict=True)\n",
        "  print(report)\n"
      ],
      "execution_count": 0,
      "outputs": [
        {
          "output_type": "stream",
          "text": [
            "Report 0.74\n",
            "{'0': {'precision': 0.8392571559123992, 'recall': 0.5831367924528302, 'f1-score': 0.6881380879106176, 'support': 44096}, '1': {'precision': 0.37742771550708537, 'recall': 0.5540841033750061, 'f1-score': 0.4490049253193449, 'support': 20237}, '2': {'precision': 0.6209957091635808, 'recall': 0.8109456555112067, 'f1-score': 0.7033720581871444, 'support': 13028}, 'accuracy': 0.6139010612582567, 'macro avg': {'precision': 0.6125601935276884, 'recall': 0.6493888504463478, 'f1-score': 0.6135050238057023, 'support': 77361}, 'weighted avg': {'precision': 0.6816900030352914, 'recall': 0.6139010612582567, 'f1-score': 0.6281483043427089, 'support': 77361}}\n"
          ],
          "name": "stdout"
        }
      ]
    },
    {
      "cell_type": "markdown",
      "metadata": {
        "id": "giYS2e4IX0w0",
        "colab_type": "text"
      },
      "source": [
        "### Error analysis of the Random Forest binary classification\n",
        "We use this code to compare the predictions and ground truth classes on the test set with the raw textual reviews.\n",
        "Output: Predictions, ground truths from the test set, raw textual review and ground truths from the raw data set (to confirm the correct order)"
      ]
    },
    {
      "cell_type": "code",
      "metadata": {
        "id": "tO8HNl4ST4V-",
        "colab_type": "code",
        "outputId": "72d95ade-4d8d-4838-97f2-38e558c19d6b",
        "colab": {
          "base_uri": "https://localhost:8080/",
          "height": 313
        }
      },
      "source": [
        "#import the raw data\n",
        "df =  pd.read_csv(\"/content/drive/My Drive/Feature_generated_sets/Hotel_reviews_features_selected.csv\")\n",
        "if 'Unnamed: 0' in df.columns:\n",
        "  df = df.drop('Unnamed: 0', 1)\n",
        "pd.set_option('display.max_colwidth', None)\n",
        "train, valid, test  =  train_test_valid_split(df)\n",
        "\n",
        "\n",
        "# Display the data in the range of i and j\n",
        "i = 600\n",
        "j = 605\n",
        "# Predicted class\n",
        "print(\"Prediction: \" + str(prediction[i:j]))\n",
        "# True class\n",
        "print(\"True class :\" + str(test_y[i:j]))\n",
        "# Review\n",
        "print(\"Raw data\")\n",
        "print(test.iloc[i:j,0])\n",
        "print(test.iloc[i:j,1])"
      ],
      "execution_count": 0,
      "outputs": [
        {
          "output_type": "stream",
          "text": [
            "Prediction: [0, 2, 2, 0, 1]\n",
            "True class :[1 2 1 0 1]\n",
            "Raw data\n",
            "316204     I liked the style of the hotel the room was comfortable and uniquely designed Typically hotel rooms are very plain i e neutral colors typical layout I thought that the room looked nice The layout wallpaper and furniture arrangement was visually pleasing The staff was also friendly and helpful   I did not love the location the building was a little confusing at first \n",
            "457317                                                                                                                                                                                                                                                                                                                             Good breakfast and comfortable room  Poor staff attention\n",
            "105673                                                                                                                                                                                                                                         Nice lobby and staff good bar and reasonable breakfast restaurant   Some decoration was so poor it was only fit for a 2 or even 1 star hotel \n",
            "57547                                                                                                                                                                                                                                                                           Friendly doormen check in staff porters etc Restaraunts staff for breakfast were friendly but professional  \n",
            "37682                                                                                                                                                                                                                                                                                                        Staff very friendly  Said there was packing on Booking com but non when arrived\n",
            "Name: Review, dtype: object\n",
            "316204    1\n",
            "457317    2\n",
            "105673    1\n",
            "57547     0\n",
            "37682     1\n",
            "Name: Reviewer_Score, dtype: int64\n"
          ],
          "name": "stdout"
        }
      ]
    },
    {
      "cell_type": "markdown",
      "metadata": {
        "id": "INuucYzeYs0O",
        "colab_type": "text"
      },
      "source": [
        "## Ensemble with binary classification"
      ]
    },
    {
      "cell_type": "code",
      "metadata": {
        "id": "zqIBrUzaVUio",
        "colab_type": "code",
        "outputId": "17012aa5-1eb5-4a6e-9b90-0af1b2839747",
        "colab": {
          "base_uri": "https://localhost:8080/",
          "height": 462
        }
      },
      "source": [
        "# Train the binary Ensemble classifier and find the optimal threshold value.\n",
        "# We use the BOW TF-IDF data set.\n",
        "# Output: Multiple classification reports for each threshold in the defined range [0.5, 0.8]\n",
        "dicts_train = trans_to_numpy_split(split_dataframes(dataframes, upsampling=True, drop_1=True))\n",
        "dicts_valid = trans_to_numpy_split(split_dataframes(dataframes))\n",
        "train_x, train_y = dicts_train[2][1][\"train\"][\"features\"],dicts_train[2][1][\"train\"][\"label\"]\n",
        "valid_x, valid_y, test_x, test_y = dicts_valid[2][1][\"valid\"][\"features\"],dicts_valid[2][1][\"valid\"][\"label\"], dicts_valid[2][1][\"test\"][\"features\"],dicts_valid[2][1][\"test\"][\"label\"]\n",
        "firstTime = time.time()\n",
        "rf_estimator = RandomForestClassifier(random_state=0, n_jobs=-1)\n",
        "lg_estimator = LogisticRegression(random_state=0, n_jobs=-1)\n",
        "mnb_estimator = MultinomialNB()\n",
        "estimators=[('lr', lg_estimator), ('rf', rf_estimator),('mnb',mnb_estimator)]\n",
        "\n",
        "\n",
        "voting_clf = VotingClassifier(estimators=estimators, voting='soft', n_jobs=-1) #Test so, d ann zu soft und bei svm probability auf True setzen obs bei KNN geht kp (brraucht Methode predict_proba())\n",
        "voting_clf = voting_clf.fit(train_x, train_y)\n",
        "print (\"--- %s seconds ---\" % round(time.time()-firstTime,4))\n",
        "\n",
        "\n",
        "prediction_proba = voting_clf.predict_proba(valid_x)\n",
        "predictions = []\n",
        "confidence_levels = np.arange(0.5, 0.83, 0.03)\n",
        "for level in confidence_levels:\n",
        "  prediction = []\n",
        "  for instance in prediction_proba:\n",
        "    high_confidence_class = 1\n",
        "    for i, proba in enumerate(instance):\n",
        "      if proba > level:\n",
        "        if i == 0: high_confidence_class = 0\n",
        "        else: high_confidence_class = 2\n",
        "    prediction.append(high_confidence_class)\n",
        "  predictions.append(prediction)\n",
        "  print(\"Report \" + str(level))\n",
        "  report = metrics.classification_report(valid_y, prediction, output_dict=True)\n",
        "  print(report)"
      ],
      "execution_count": 0,
      "outputs": [
        {
          "output_type": "stream",
          "text": [
            "--- 77.7416 seconds ---\n",
            "Report 0.5\n",
            "{'0': {'precision': 0.7613748967795211, 'recall': 0.8363607501644102, 'f1-score': 0.7971081837535255, 'support': 44097}, '1': {'precision': 0.0, 'recall': 0.0, 'f1-score': 0.0, 'support': 20237}, '2': {'precision': 0.40541475052729853, 'recall': 0.9000537345513165, 'f1-score': 0.559025460093449, 'support': 13027}, 'accuracy': 0.6283010819405127, 'macro avg': {'precision': 0.3889298824356065, 'recall': 0.5788048282385756, 'f1-score': 0.45204454794899157, 'support': 77361}, 'weighted avg': {'precision': 0.5022645361151699, 'recall': 0.6283010819405127, 'f1-score': 0.5484999450319487, 'support': 77361}}\n"
          ],
          "name": "stdout"
        },
        {
          "output_type": "stream",
          "text": [
            "/usr/local/lib/python3.6/dist-packages/sklearn/metrics/_classification.py:1272: UndefinedMetricWarning: Precision and F-score are ill-defined and being set to 0.0 in labels with no predicted samples. Use `zero_division` parameter to control this behavior.\n",
            "  _warn_prf(average, modifier, msg_start, len(result))\n"
          ],
          "name": "stderr"
        },
        {
          "output_type": "stream",
          "text": [
            "Report 0.53\n",
            "{'0': {'precision': 0.7712648365564164, 'recall': 0.8148853663514525, 'f1-score': 0.7924752999294283, 'support': 44097}, '1': {'precision': 0.3851235625152924, 'recall': 0.07777832682709888, 'f1-score': 0.12941950337115607, 'support': 20237}, '2': {'precision': 0.42884982947944383, 'recall': 0.8784063867352422, 'f1-score': 0.5763283807605138, 'support': 13027}, 'accuracy': 0.6327606933726296, 'macro avg': {'precision': 0.5284127428503842, 'recall': 0.5903566933045978, 'f1-score': 0.4994077280203661, 'support': 77361}, 'weighted avg': {'precision': 0.6125933966841043, 'recall': 0.6327606933726296, 'f1-score': 0.582627882355157, 'support': 77361}}\n",
            "Report 0.56\n",
            "{'0': {'precision': 0.7842955807339864, 'recall': 0.7880127899857133, 'f1-score': 0.7861497912966755, 'support': 44097}, '1': {'precision': 0.3866035675282126, 'recall': 0.15743440233236153, 'f1-score': 0.22375166795421025, 'support': 20237}, '2': {'precision': 0.4489401144515193, 'recall': 0.855147002379673, 'f1-score': 0.5887793662958167, 'support': 13027}, 'accuracy': 0.6343635682062021, 'macro avg': {'precision': 0.5399464209045728, 'recall': 0.6001980648992493, 'f1-score': 0.5328936085155674, 'support': 77361}, 'weighted avg': {'precision': 0.6237913353066141, 'recall': 0.6343635682062021, 'f1-score': 0.6057954092622181, 'support': 77361}}\n",
            "Report 0.5900000000000001\n",
            "{'0': {'precision': 0.7944216338666289, 'recall': 0.7634532961425947, 'f1-score': 0.7786296617519515, 'support': 44097}, '1': {'precision': 0.3850088035549593, 'recall': 0.2269111034244206, 'f1-score': 0.2855366247979107, 'support': 20237}, '2': {'precision': 0.46981263011797364, 'recall': 0.8315037998004146, 'f1-score': 0.6003935371227448, 'support': 13027}, 'accuracy': 0.6345574643554246, 'macro avg': {'precision': 0.549747689179854, 'recall': 0.6072893997891433, 'f1-score': 0.5548532745575357, 'support': 77361}, 'weighted avg': {'precision': 0.6326609412844365, 'recall': 0.6345574643554246, 'f1-score': 0.6196269887722382, 'support': 77361}}\n",
            "Report 0.6200000000000001\n",
            "{'0': {'precision': 0.8052347196748129, 'recall': 0.7367394607342903, 'f1-score': 0.769465793493836, 'support': 44097}, '1': {'precision': 0.38227217574557765, 'recall': 0.29579483124969114, 'f1-score': 0.3335190550479162, 'support': 20237}, '2': {'precision': 0.49157145532871327, 'recall': 0.8058647424579719, 'f1-score': 0.6106506122211559, 'support': 13027}, 'accuracy': 0.6330321479815411, 'macro avg': {'precision': 0.5596927835830345, 'recall': 0.6127996781473178, 'f1-score': 0.5712118202543027, 'support': 77361}, 'weighted avg': {'precision': 0.6417727123826039, 'recall': 0.6330321479815411, 'f1-score': 0.6286824593542918, 'support': 77361}}\n",
            "Report 0.6500000000000001\n",
            "{'0': {'precision': 0.8154665128232024, 'recall': 0.7051953647640429, 'f1-score': 0.7563327698799723, 'support': 44097}, '1': {'precision': 0.3780200655200655, 'recall': 0.36492563126945693, 'f1-score': 0.37135745354888994, 'support': 20237}, '2': {'precision': 0.5141435173429486, 'recall': 0.7771551393260152, 'f1-score': 0.6188642337551195, 'support': 13027}, 'accuracy': 0.6283010819405127, 'macro avg': {'precision': 0.5692100318954055, 'recall': 0.615758711786505, 'f1-score': 0.5821848190613274, 'support': 77361}, 'weighted avg': {'precision': 0.6502936425630603, 'recall': 0.6283010819405127, 'f1-score': 0.6324777512440889, 'support': 77361}}\n",
            "Report 0.6800000000000002\n",
            "{'0': {'precision': 0.8257533637273435, 'recall': 0.6736059142345284, 'f1-score': 0.7419600594487256, 'support': 44097}, '1': {'precision': 0.3760763918492625, 'recall': 0.4359341799673865, 'f1-score': 0.40379906167753743, 'support': 20237}, '2': {'precision': 0.5415760414923875, 'recall': 0.7454517540492822, 'f1-score': 0.627366108921765, 'support': 13027}, 'accuracy': 0.6235312366696397, 'macro avg': {'precision': 0.5811352656896646, 'recall': 0.6183306160837324, 'f1-score': 0.5910417433493427, 'support': 77361}, 'weighted avg': {'precision': 0.6602682891206102, 'recall': 0.6235312366696397, 'f1-score': 0.6342031857603005, 'support': 77361}}\n",
            "Report 0.7100000000000002\n",
            "{'0': {'precision': 0.8360606873528272, 'recall': 0.6360750164410277, 'f1-score': 0.7224840944800762, 'support': 44097}, '1': {'precision': 0.37098175499565594, 'recall': 0.5063991698374265, 'f1-score': 0.4282401119909739, 'support': 20237}, '2': {'precision': 0.569990116135409, 'recall': 0.7082981499961618, 'f1-score': 0.6316618175594728, 'support': 13027}, 'accuracy': 0.614314706376598, 'macro avg': {'precision': 0.5923441861612974, 'recall': 0.6169241120915386, 'f1-score': 0.5941286746768409, 'support': 77361}, 'weighted avg': {'precision': 0.6695956250428599, 'recall': 0.614314706376598, 'f1-score': 0.6302185178319374, 'support': 77361}}\n",
            "Report 0.7400000000000002\n",
            "{'0': {'precision': 0.8473087727228698, 'recall': 0.5950971721432297, 'f1-score': 0.6991527681568711, 'support': 44097}, '1': {'precision': 0.36536113459190384, 'recall': 0.5766665019518703, 'f1-score': 0.44731496032810764, 'support': 20237}, '2': {'precision': 0.601494913142778, 'recall': 0.6671528364166731, 'f1-score': 0.6326248362207018, 'support': 13027}, 'accuracy': 0.6024094828143379, 'macro avg': {'precision': 0.6047216068191839, 'recall': 0.612972170170591, 'f1-score': 0.5930308549018934, 'support': 77361}, 'weighted avg': {'precision': 0.6798420711341336, 'recall': 0.6024094828143379, 'f1-score': 0.6220712789521923, 'support': 77361}}\n",
            "Report 0.7700000000000002\n",
            "{'0': {'precision': 0.8586918132372677, 'recall': 0.5513526997301403, 'f1-score': 0.6715278065487287, 'support': 44097}, '1': {'precision': 0.3587384657760639, 'recall': 0.643573652221179, 'f1-score': 0.460684093240423, 'support': 20237}, '2': {'precision': 0.6307487050698477, 'recall': 0.6169494127581178, 'f1-score': 0.6237727502037332, 'support': 13027}, 'accuracy': 0.586522924988043, 'macro avg': {'precision': 0.6160596613610597, 'recall': 0.6039585882364791, 'f1-score': 0.585328216664295, 'support': 77361}, 'weighted avg': {'precision': 0.6895242641793526, 'recall': 0.586522924988043, 'f1-score': 0.6083312430965184, 'support': 77361}}\n",
            "Report 0.8000000000000003\n",
            "{'0': {'precision': 0.8717220710595843, 'recall': 0.5013039435789283, 'f1-score': 0.6365468785994011, 'support': 44097}, '1': {'precision': 0.35202962818576095, 'recall': 0.7139398132134209, 'f1-score': 0.47154816495047247, 'support': 20237}, '2': {'precision': 0.6683394160583942, 'recall': 0.562293697704767, 'f1-score': 0.6107474882227873, 'support': 13027}, 'accuracy': 0.5671979421155362, 'macro avg': {'precision': 0.6306970384345798, 'recall': 0.5925124848323721, 'f1-score': 0.572947510590887, 'support': 77361}, 'weighted avg': {'precision': 0.7015267295679015, 'recall': 0.5671979421155362, 'f1-score': 0.5890401552303971, 'support': 77361}}\n"
          ],
          "name": "stdout"
        }
      ]
    },
    {
      "cell_type": "code",
      "metadata": {
        "id": "Ai3d8KRlcWlm",
        "colab_type": "code",
        "outputId": "348db35f-9265-495b-9a65-248d32dfb695",
        "colab": {
          "base_uri": "https://localhost:8080/",
          "height": 71
        }
      },
      "source": [
        "# We test the classifier with the optimal threshold of 0.71.\n",
        "# Output: The classification report of the classifier on the test set.\n",
        "prediction_proba = voting_clf.predict_proba(test_x)\n",
        "predictions = []\n",
        "confidence_levels = [0.71]\n",
        "for level in confidence_levels:\n",
        "  prediction = []\n",
        "  for instance in prediction_proba:\n",
        "    high_confidence_class = 1\n",
        "    for i, proba in enumerate(instance):\n",
        "      if proba > level:\n",
        "        if i == 0: high_confidence_class = 0\n",
        "        else: high_confidence_class = 2\n",
        "    prediction.append(high_confidence_class)\n",
        "  predictions.append(prediction)\n",
        "  print(\"Report \" + str(level))\n",
        "  report = metrics.classification_report(test_y, prediction, output_dict=True)\n",
        "  print(report)"
      ],
      "execution_count": 0,
      "outputs": [
        {
          "output_type": "stream",
          "text": [
            "Report 0.71\n",
            "{'0': {'precision': 0.8381532217148655, 'recall': 0.6368831640058055, 'f1-score': 0.7237864515547079, 'support': 44096}, '1': {'precision': 0.37131595125302863, 'recall': 0.5073874586154075, 'f1-score': 0.4288160367508875, 'support': 20237}, '2': {'precision': 0.5692241219677797, 'recall': 0.7078599938593798, 'f1-score': 0.6310171405111362, 'support': 13028}, 'accuracy': 0.6149610268740063, 'macro avg': {'precision': 0.592897764978558, 'recall': 0.6173768721601975, 'f1-score': 0.5945398762722439, 'support': 77361}, 'weighted avg': {'precision': 0.6707433620460242, 'recall': 0.6149610268740063, 'f1-score': 0.6310017813893718, 'support': 77361}}\n"
          ],
          "name": "stdout"
        }
      ]
    },
    {
      "cell_type": "markdown",
      "metadata": {
        "id": "9nMUZwBPdj-D",
        "colab_type": "text"
      },
      "source": [
        "## Logistic Regression binary classification"
      ]
    },
    {
      "cell_type": "code",
      "metadata": {
        "id": "RL5da3qGdFww",
        "colab_type": "code",
        "outputId": "a5bff696-d1f1-4fb3-e171-d3a6ea11c7d7",
        "colab": {
          "base_uri": "https://localhost:8080/",
          "height": 564
        }
      },
      "source": [
        "# Train the binary Logistic Regression classifier and find the optimal threshold value.\n",
        "# We use the BOW TF-IDF data set.\n",
        "# Output: Multiple classification reports for each threshold in the defined range [0.5, 0.8]\n",
        "dicts_train = trans_to_numpy_split(split_dataframes(dataframes, upsampling=True, drop_1=True))\n",
        "dicts_valid = trans_to_numpy_split(split_dataframes(dataframes))\n",
        "train_x, train_y = dicts_train[2][1][\"train\"][\"features\"],dicts_train[2][1][\"train\"][\"label\"]\n",
        "valid_x, valid_y, test_x, test_y = dicts_valid[2][1][\"valid\"][\"features\"],dicts_valid[2][1][\"valid\"][\"label\"], dicts_valid[2][1][\"test\"][\"features\"],dicts_valid[2][1][\"test\"][\"label\"]\n",
        "firstTime = time.time()\n",
        "lg_estimator = LogisticRegression(random_state=0, n_jobs=-1)\n",
        "lg_estimator.fit(train_x, train_y)\n",
        "print (\"--- %s seconds ---\" % round(time.time()-firstTime,4))\n",
        "\n",
        "\n",
        "prediction_proba = lg_estimator.predict_proba(valid_x)\n",
        "predictions = []\n",
        "confidence_levels = np.arange(0.5, 0.90, 0.03)\n",
        "for level in confidence_levels:\n",
        "  prediction = []\n",
        "  for instance in prediction_proba:\n",
        "    high_confidence_class = 1\n",
        "    for i, proba in enumerate(instance):\n",
        "      if proba > level:\n",
        "        if i == 0: high_confidence_class = 0\n",
        "        else: high_confidence_class = 2\n",
        "    prediction.append(high_confidence_class)\n",
        "  predictions.append(prediction)\n",
        "  print(\"Report \" + str(level))\n",
        "  report = metrics.classification_report(valid_y, prediction, output_dict=True)\n",
        "  print(report)\n"
      ],
      "execution_count": 0,
      "outputs": [
        {
          "output_type": "stream",
          "text": [
            "--- 161.9474 seconds ---\n",
            "Report 0.5\n",
            "{'0': {'precision': 0.7230162550449883, 'recall': 0.8856158015284487, 'f1-score': 0.7960982968270631, 'support': 44097}, '1': {'precision': 0.0, 'recall': 0.0, 'f1-score': 0.0, 'support': 20237}, '2': {'precision': 0.44189831670021845, 'recall': 0.7919705227604207, 'f1-score': 0.567273327101776, 'support': 13027}, 'accuracy': 0.6381768591409108, 'macro avg': {'precision': 0.38830485724840225, 'recall': 0.5591954414296231, 'f1-score': 0.4544572079762797, 'support': 77361}, 'weighted avg': {'precision': 0.4865430536106384, 'recall': 0.6381768591409108, 'f1-score': 0.5493131710724763, 'support': 77361}}\n"
          ],
          "name": "stdout"
        },
        {
          "output_type": "stream",
          "text": [
            "/usr/local/lib/python3.6/dist-packages/sklearn/metrics/_classification.py:1272: UndefinedMetricWarning: Precision and F-score are ill-defined and being set to 0.0 in labels with no predicted samples. Use `zero_division` parameter to control this behavior.\n",
            "  _warn_prf(average, modifier, msg_start, len(result))\n"
          ],
          "name": "stderr"
        },
        {
          "output_type": "stream",
          "text": [
            "Report 0.53\n",
            "{'0': {'precision': 0.7304290053151101, 'recall': 0.8725990430187994, 'f1-score': 0.7952096055881047, 'support': 44097}, '1': {'precision': 0.3811965811965812, 'recall': 0.05509709937243663, 'f1-score': 0.0962783870132113, 'support': 20237}, '2': {'precision': 0.46047067475638903, 'recall': 0.7690181929838029, 'f1-score': 0.5760285196791536, 'support': 13027}, 'accuracy': 0.6413050503483667, 'macro avg': {'precision': 0.5240320870893601, 'recall': 0.565571445125013, 'f1-score': 0.48917217076015657, 'support': 77361}, 'weighted avg': {'precision': 0.5936137658653211, 'recall': 0.6413050503483667, 'f1-score': 0.5754665428506011, 'support': 77361}}\n",
            "Report 0.56\n",
            "{'0': {'precision': 0.7382268233828909, 'recall': 0.8602852801777898, 'f1-score': 0.7945960098444781, 'support': 44097}, '1': {'precision': 0.39532744665194997, 'recall': 0.10619162919405051, 'f1-score': 0.16741323569508823, 'support': 20237}, '2': {'precision': 0.4740711885864537, 'recall': 0.7473708451677286, 'f1-score': 0.5801453938743892, 'support': 13027}, 'accuracy': 0.6440066700275332, 'macro avg': {'precision': 0.5358751528737649, 'recall': 0.571282584846523, 'f1-score': 0.5140515464713186, 'support': 77361}, 'weighted avg': {'precision': 0.6040453864650998, 'recall': 0.6440066700275332, 'f1-score': 0.5944183237403229, 'support': 77361}}\n",
            "Report 0.5900000000000001\n",
            "{'0': {'precision': 0.7457349474609453, 'recall': 0.8465428487198675, 'f1-score': 0.7929477988423345, 'support': 44097}, '1': {'precision': 0.39602350881580595, 'recall': 0.15649552799327965, 'f1-score': 0.22433944889140756, 'support': 20237}, '2': {'precision': 0.4903656894229773, 'recall': 0.7267214247332463, 'f1-score': 0.5855936659140816, 'support': 13027}, 'accuracy': 0.6458551466501209, 'macro avg': {'precision': 0.5440413818999096, 'recall': 0.5765866004821312, 'f1-score': 0.5342936378826079, 'support': 77361}, 'weighted avg': {'precision': 0.6112510898541113, 'recall': 0.6458551466501209, 'f1-score': 0.6092876927473607, 'support': 77361}}\n",
            "Report 0.6200000000000001\n",
            "{'0': {'precision': 0.7536288498704716, 'recall': 0.8312356849672313, 'f1-score': 0.7905321615355583, 'support': 44097}, '1': {'precision': 0.3962725903614458, 'recall': 0.20803478776498494, 'f1-score': 0.2728362658371407, 'support': 20237}, '2': {'precision': 0.5056080446433504, 'recall': 0.702464112996085, 'f1-score': 0.5879971727815974, 'support': 13027}, 'accuracy': 0.6465273199674254, 'macro avg': {'precision': 0.5518364949584226, 'recall': 0.580578195242767, 'f1-score': 0.5504552000514321, 'support': 77361}, 'weighted avg': {'precision': 0.6183825933151289, 'recall': 0.6465273199674254, 'f1-score': 0.6210018408346014, 'support': 77361}}\n",
            "Report 0.6500000000000001\n",
            "{'0': {'precision': 0.7613024871827465, 'recall': 0.814908043631086, 'f1-score': 0.7871937261087196, 'support': 44097}, '1': {'precision': 0.39147873467534433, 'recall': 0.25562089242476654, 'f1-score': 0.3092882126094885, 'support': 20237}, '2': {'precision': 0.5204485098849218, 'recall': 0.6769785829431182, 'f1-score': 0.5884825837448285, 'support': 13027}, 'accuracy': 0.6453768694820388, 'macro avg': {'precision': 0.5577432439143375, 'recall': 0.5825025063329902, 'f1-score': 0.5616548408210122, 'support': 77361}, 'weighted avg': {'precision': 0.6240016761571514, 'recall': 0.6453768694820388, 'f1-score': 0.6287161478941368, 'support': 77361}}\n",
            "Report 0.6800000000000002\n",
            "{'0': {'precision': 0.7702824288441704, 'recall': 0.7959951924167177, 'f1-score': 0.7829277541096961, 'support': 44097}, '1': {'precision': 0.3929372197309417, 'recall': 0.3117556950140831, 'f1-score': 0.3476703496542033, 'support': 20237}, '2': {'precision': 0.5385104219623793, 'recall': 0.6504951255085591, 'f1-score': 0.5892292180926885, 'support': 13027}, 'accuracy': 0.6448210338542677, 'macro avg': {'precision': 0.5672433568458305, 'recall': 0.58608200431312, 'f1-score': 0.5732757739521959, 'support': 77361}, 'weighted avg': {'precision': 0.632543401033342, 'recall': 0.6448210338542677, 'f1-score': 0.6364506542446561, 'support': 77361}}\n",
            "Report 0.7100000000000002\n",
            "{'0': {'precision': 0.7803554594992298, 'recall': 0.7696668707621833, 'f1-score': 0.7749743121360886, 'support': 44097}, '1': {'precision': 0.38782896437619563, 'recall': 0.3706577061817463, 'f1-score': 0.37904896659760473, 'support': 20237}, '2': {'precision': 0.5590968541336822, 'recall': 0.6234743225608352, 'f1-score': 0.589533280104522, 'support': 13027}, 'accuracy': 0.6406716562609066, 'macro avg': {'precision': 0.5757604260030359, 'recall': 0.5879329665015883, 'f1-score': 0.5811855196127383, 'support': 77361}, 'weighted avg': {'precision': 0.6404155086984151, 'recall': 0.6406716562609066, 'f1-score': 0.6401766551521105, 'support': 77361}}\n",
            "Report 0.7400000000000002\n",
            "{'0': {'precision': 0.7904606212135782, 'recall': 0.7456289543506361, 'f1-score': 0.7673905686578834, 'support': 44097}, '1': {'precision': 0.38549703429514337, 'recall': 0.4271384098433562, 'f1-score': 0.4052508204406939, 'support': 20237}, '2': {'precision': 0.5793734072852645, 'recall': 0.5933829738235972, 'f1-score': 0.5862945124957336, 'support': 13027}, 'accuracy': 0.6366773955869236, 'macro avg': {'precision': 0.585110354264662, 'recall': 0.5887167793391965, 'f1-score': 0.5863119671981036, 'support': 77361}, 'weighted avg': {'precision': 0.6489800141336218, 'recall': 0.6366773955869236, 'f1-score': 0.6421626061406512, 'support': 77361}}\n",
            "Report 0.7700000000000002\n",
            "{'0': {'precision': 0.8006040775232821, 'recall': 0.7213189105834864, 'f1-score': 0.7588962983287008, 'support': 44097}, '1': {'precision': 0.3824843260188088, 'recall': 0.48233433809359094, 'f1-score': 0.4266451034814345, 'support': 20237}, '2': {'precision': 0.6004458756502353, 'recall': 0.5582252245336609, 'f1-score': 0.5785663139470124, 'support': 13027}, 'accuracy': 0.6313387882783315, 'macro avg': {'precision': 0.5945114263974421, 'recall': 0.5872928244035793, 'f1-score': 0.5880359052523825, 'support': 77361}, 'weighted avg': {'precision': 0.6575222881591812, 'recall': 0.6313387882783315, 'f1-score': 0.6416159356567552, 'support': 77361}}\n",
            "Report 0.8000000000000003\n",
            "{'0': {'precision': 0.8098136678982483, 'recall': 0.6908860013152822, 'f1-score': 0.7456374360605986, 'support': 44097}, '1': {'precision': 0.37616587496966125, 'recall': 0.5360972476157533, 'f1-score': 0.44211255552386, 'support': 20237}, '2': {'precision': 0.622442425910634, 'recall': 0.520764565901589, 'f1-score': 0.5670818356599515, 'support': 13027}, 'accuracy': 0.621747392096793, 'macro avg': {'precision': 0.6028073229261811, 'recall': 0.5825826049442081, 'f1-score': 0.5849439424148034, 'support': 77361}, 'weighted avg': {'precision': 0.6648230970050532, 'recall': 0.621747392096793, 'f1-score': 0.6361704331283562, 'support': 77361}}\n",
            "Report 0.8300000000000003\n",
            "{'0': {'precision': 0.8218006795016988, 'recall': 0.6582307186429915, 'f1-score': 0.730976994849969, 'support': 44097}, '1': {'precision': 0.3713906712734452, 'recall': 0.5949004299056184, 'f1-score': 0.45729588057660536, 'support': 20237}, '2': {'precision': 0.6425974025974026, 'recall': 0.47478314270361555, 'f1-score': 0.546088645594208, 'support': 13027}, 'accuracy': 0.6107728700508008, 'macro avg': {'precision': 0.6119295844575156, 'recall': 0.5759714304174085, 'f1-score': 0.5781205070069274, 'support': 77361}, 'weighted avg': {'precision': 0.6738006740112393, 'recall': 0.6107728700508008, 'f1-score': 0.6282504887900052, 'support': 77361}}\n",
            "Report 0.8600000000000003\n",
            "{'0': {'precision': 0.8338172815355931, 'recall': 0.6186361884028392, 'f1-score': 0.7102871872314941, 'support': 44097}, '1': {'precision': 0.36359886710479283, 'recall': 0.6534071255620892, 'f1-score': 0.4672107978234753, 'support': 20237}, '2': {'precision': 0.6688413676452821, 'recall': 0.4249635372687495, 'f1-score': 0.5197146075854299, 'support': 13027}, 'accuracy': 0.5951189876035728, 'macro avg': {'precision': 0.6220858387618894, 'recall': 0.5656689504112259, 'f1-score': 0.5657375308801331, 'support': 77361}, 'weighted avg': {'precision': 0.6830313392250595, 'recall': 0.5951189876035728, 'f1-score': 0.6146094440857313, 'support': 77361}}\n",
            "Report 0.8900000000000003\n",
            "{'0': {'precision': 0.8478011987339215, 'recall': 0.5709685466131483, 'f1-score': 0.6823768548004607, 'support': 44097}, '1': {'precision': 0.3556127450980392, 'recall': 0.7169540939862628, 'f1-score': 0.4754165506168389, 'support': 20237}, '2': {'precision': 0.6972169605128953, 'recall': 0.36731404007062257, 'f1-score': 0.4811463046757165, 'support': 13027}, 'accuracy': 0.5748633032147982, 'macro avg': {'precision': 0.6335436347816187, 'recall': 0.5517455602233445, 'f1-score': 0.5463132366976721, 'support': 77361}, 'weighted avg': {'precision': 0.6936915232186791, 'recall': 0.5748633032147982, 'f1-score': 0.5943520612709174, 'support': 77361}}\n"
          ],
          "name": "stdout"
        }
      ]
    },
    {
      "cell_type": "code",
      "metadata": {
        "id": "uknnuVoMdz72",
        "colab_type": "code",
        "outputId": "e3c7e39f-4b8d-4efb-ed13-330a0f52f30f",
        "colab": {
          "base_uri": "https://localhost:8080/",
          "height": 71
        }
      },
      "source": [
        "# We test the classifier with the optimal threshold of 0.77 .\n",
        "# Output: The classification report of the classifier on the test set.\n",
        "prediction_proba = lg_estimator.predict_proba(test_x)\n",
        "predictions = []\n",
        "confidence_levels = [0.77]\n",
        "for level in confidence_levels:\n",
        "  prediction = []\n",
        "  for instance in prediction_proba:\n",
        "    high_confidence_class = 1\n",
        "    for i, proba in enumerate(instance):\n",
        "      if proba > level:\n",
        "        if i == 0: high_confidence_class = 0\n",
        "        else: high_confidence_class = 2\n",
        "    prediction.append(high_confidence_class)\n",
        "  predictions.append(prediction)\n",
        "  print(\"Report \" + str(level))\n",
        "  report = metrics.classification_report(test_y, prediction, output_dict=True)\n",
        "  print(report)"
      ],
      "execution_count": 0,
      "outputs": [
        {
          "output_type": "stream",
          "text": [
            "Report 0.77\n",
            "{'0': {'precision': 0.8002054314059525, 'recall': 0.7243514150943396, 'f1-score': 0.7603913726610484, 'support': 44096}, '1': {'precision': 0.38119887778085115, 'recall': 0.47670109205909966, 'f1-score': 0.4236342877217636, 'support': 20237}, '2': {'precision': 0.5944142362827484, 'recall': 0.553807184525637, 'f1-score': 0.5733926726535802, 'support': 13028}, 'accuracy': 0.6308475847003012, 'macro avg': {'precision': 0.5919395151565173, 'recall': 0.5849532305596922, 'f1-score': 0.5858061110121308, 'support': 77361}, 'weighted avg': {'precision': 0.6559404488465713, 'recall': 0.6308475847003012, 'f1-score': 0.6408069284111859, 'support': 77361}}\n"
          ],
          "name": "stdout"
        }
      ]
    }
  ]
}